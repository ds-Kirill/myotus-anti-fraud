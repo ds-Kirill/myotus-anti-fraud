{
 "cells": [
  {
   "cell_type": "code",
   "execution_count": 221,
   "id": "9f855c65",
   "metadata": {},
   "outputs": [
    {
     "data": {
      "text/plain": [
       "'/usr/lib/spark'"
      ]
     },
     "execution_count": 221,
     "metadata": {},
     "output_type": "execute_result"
    }
   ],
   "source": [
    "import findspark\n",
    "findspark.init()\n",
    "findspark.find()"
   ]
  },
  {
   "cell_type": "code",
   "execution_count": 60,
   "id": "9154f94e",
   "metadata": {},
   "outputs": [],
   "source": [
    "import joblibspark"
   ]
  },
  {
   "cell_type": "code",
   "execution_count": 62,
   "id": "4bce56fe",
   "metadata": {},
   "outputs": [],
   "source": [
    "import numpy as np"
   ]
  },
  {
   "cell_type": "code",
   "execution_count": 222,
   "id": "c129abc0",
   "metadata": {},
   "outputs": [],
   "source": [
    "import pyspark\n",
    "from pyspark.sql import SparkSession\n",
    "from pyspark.sql.types import StructType, StructField, IntegerType, StringType, DoubleType\n",
    "from pyspark.sql.functions import col\n",
    "from pyspark.sql import functions as F"
   ]
  },
  {
   "cell_type": "code",
   "execution_count": 223,
   "id": "6aa15a02",
   "metadata": {},
   "outputs": [],
   "source": [
    "from pyspark.sql import SparkSession\n",
    "from pyspark.ml.feature import VectorAssembler\n",
    "from pyspark.ml.evaluation import RegressionEvaluator\n",
    "from pyspark.ml.tuning import ParamGridBuilder, TrainValidationSplit\n",
    "from pyspark.ml.feature import MinMaxScaler"
   ]
  },
  {
   "cell_type": "code",
   "execution_count": 5,
   "id": "b7c0a47e",
   "metadata": {},
   "outputs": [],
   "source": [
    "import mlflow\n",
    "from mlflow.tracking import MlflowClient"
   ]
  },
  {
   "cell_type": "code",
   "execution_count": 6,
   "id": "fd567a8d",
   "metadata": {},
   "outputs": [],
   "source": [
    "import os\n",
    "\n",
    "# Установите переменные окружения AWS_ACCESS_KEY_ID и AWS_SECRET_ACCESS_KEY\n",
    "# os.environ['AWS_ACCESS_KEY_ID'] = 'YCAJEExfyMKWDYUc36MrS3BEy'\n",
    "# os.environ['AWS_SECRET_ACCESS_KEY'] = 'YCN2-TEIpayiu9UXNt-_kXFsnEsSqxQOJX9ZO3mM'\n",
    "os.environ['MLFLOW_S3_ENDPOINT_URL'] = 'https://storage.yandexcloud.net/'\n",
    "os.environ['MLFLOW_TRACKING_URI'] = 'http://158.160.36.33:8000' "
   ]
  },
  {
   "cell_type": "code",
   "execution_count": 63,
   "id": "708a9902",
   "metadata": {},
   "outputs": [],
   "source": [
    "seed = 42\n",
    "np.random.seed(42)"
   ]
  },
  {
   "cell_type": "code",
   "execution_count": 225,
   "id": "1d2b89a0",
   "metadata": {},
   "outputs": [],
   "source": [
    "from pyspark import SparkConf, SparkContext\n",
    "\n",
    "conf = SparkConf()\n",
    "conf.set(\"spark.executor.memoryOverhead\", \"2048m\")  # Увеличьте значение памяти надежности исполнителя\n",
    "conf.set(\"spark.yarn.executor.memoryOverhead\", \"2048m\")  # Увеличьте значение памяти надежности исполнителя для YARN\n",
    "conf.set(\"spark.yarn.scheduler.maximum-allocation-mb\", \"16384\")  # Увеличьте максимальное выделение памяти для исполнителей\n",
    "conf.set(\"spark.yarn.nodemanager.resource.memory-mb\", \"20480\")  # Увеличьте общее количество памяти на датаноде\n",
    "\n",
    "sc = SparkContext(conf=conf)"
   ]
  },
  {
   "cell_type": "code",
   "execution_count": 7,
   "id": "dd605af0",
   "metadata": {},
   "outputs": [],
   "source": [
    "spark = (\n",
    "    SparkSession\n",
    "    .builder\n",
    "    .appName(\"antiFraud\")\n",
    "#     .config(\"spark.executor.cores\", \"8\")  # Установите значение равным количеству ядер на датаноде (8 в вашем случае)\n",
    "#     .config(\"spark.executor.memory\", \"28g\")  # Установите значение, учитывая доступную память на датаноде и резервируемую память\n",
    "#     .config(\"spark.executor.instances\", \"16\")  # Установите значение, учитывая доступные ресурсы на кластере\n",
    "#     .config(\"spark.default.parallelism\", \"24\")  # Установите значение равным количеству доступных ядер на кластере (24 в вашем случае)\n",
    "    .config(\"spark.shuffle.service.enabled\", \"true\")\n",
    "    .config(\"spark.dynamicAllocation.enabled\", \"true\")\n",
    "    .config(\"spark.ui.port\", \"4040\")\n",
    "    .getOrCreate()\n",
    ")"
   ]
  },
  {
   "cell_type": "code",
   "execution_count": 226,
   "id": "8751eee4",
   "metadata": {},
   "outputs": [],
   "source": [
    "spark = (SparkSession\n",
    "    .builder\n",
    "    .appName(\"aFraud\")\n",
    "    .master(\"yarn\")\n",
    "    .config(\"spark.executor.instances\", \"3\")\n",
    "    .config(\"spark.executor.cores\", \"4\")\n",
    "    .config(\"spark.executor.memory\", \"12\")\n",
    "#     .config(\"spark.default.parallelism\", \"24\")\n",
    "    .config(\"spark.shuffle.service.enabled\", \"true\")\n",
    "    .config(\"spark.dynamicAllocation.enabled\", \"true\")\n",
    "    .config(\"spark.executor.extraJavaOptions\", \"-XX:+UseG1GC -XX:MaxGCPauseMillis=200\")\n",
    "    .getOrCreate()\n",
    ")\n"
   ]
  },
  {
   "cell_type": "code",
   "execution_count": 227,
   "id": "9ff6abe3",
   "metadata": {},
   "outputs": [],
   "source": [
    "spark.conf.set('spark.sql.repl.eagerEval.enabled', True)"
   ]
  },
  {
   "cell_type": "code",
   "execution_count": 76,
   "id": "3bdb5c46",
   "metadata": {},
   "outputs": [
    {
     "name": "stdout",
     "output_type": "stream",
     "text": [
      "2024-01-03 17:40:00,161 INFO tools.DistCp: Input Options: DistCpOptions{atomicCommit=false, syncFolder=false, deleteMissing=false, ignoreFailures=false, overwrite=false, append=false, useDiff=false, useRdiff=false, fromSnapshot=null, toSnapshot=null, skipCRC=false, blocking=true, numListstatusThreads=0, maxMaps=20, mapBandwidth=0.0, copyStrategy='uniformsize', preserveStatus=[], atomicWorkPath=null, logPath=null, sourceFileListing=null, sourcePaths=[s3a://fraudstop/data_clean/df2.parquet], targetPath=/user/data_clean, filtersFile='null', blocksPerChunk=0, copyBufferSize=8192, verboseLog=false, directWrite=false}, sourcePaths=[s3a://fraudstop/data_clean/df2.parquet], targetPathExists=true, preserveRawXattrsfalse\n",
      "2024-01-03 17:40:00,433 INFO client.RMProxy: Connecting to ResourceManager at rc1a-dataproc-m-2dnw3p4s8fl6b5t7.mdb.yandexcloud.net/10.128.0.30:8032\n",
      "2024-01-03 17:40:00,614 INFO client.AHSProxy: Connecting to Application History server at rc1a-dataproc-m-2dnw3p4s8fl6b5t7.mdb.yandexcloud.net/10.128.0.30:10200\n",
      "2024-01-03 17:40:00,751 INFO impl.MetricsConfig: Loaded properties from hadoop-metrics2.properties\n",
      "2024-01-03 17:40:00,827 INFO impl.MetricsSystemImpl: Scheduled Metric snapshot period at 10 second(s).\n",
      "2024-01-03 17:40:00,828 INFO impl.MetricsSystemImpl: s3a-file-system metrics system started\n",
      "2024-01-03 17:40:02,985 INFO tools.SimpleCopyListing: Paths (files+dirs) cnt = 202; dirCnt = 1\n",
      "2024-01-03 17:40:02,985 INFO tools.SimpleCopyListing: Build file listing completed.\n",
      "2024-01-03 17:40:02,987 INFO Configuration.deprecation: io.sort.mb is deprecated. Instead, use mapreduce.task.io.sort.mb\n",
      "2024-01-03 17:40:02,987 INFO Configuration.deprecation: io.sort.factor is deprecated. Instead, use mapreduce.task.io.sort.factor\n",
      "2024-01-03 17:40:03,114 INFO tools.DistCp: Number of paths in the copy list: 202\n",
      "2024-01-03 17:40:03,175 INFO tools.DistCp: Number of paths in the copy list: 202\n",
      "2024-01-03 17:40:03,198 INFO client.RMProxy: Connecting to ResourceManager at rc1a-dataproc-m-2dnw3p4s8fl6b5t7.mdb.yandexcloud.net/10.128.0.30:8032\n",
      "2024-01-03 17:40:03,199 INFO client.AHSProxy: Connecting to Application History server at rc1a-dataproc-m-2dnw3p4s8fl6b5t7.mdb.yandexcloud.net/10.128.0.30:10200\n",
      "2024-01-03 17:40:03,292 INFO mapreduce.JobResourceUploader: Disabling Erasure Coding for path: /tmp/hadoop-yarn/staging/ubuntu/.staging/job_1704291364136_0012\n",
      "2024-01-03 17:40:03,511 INFO mapreduce.JobSubmitter: number of splits:22\n",
      "2024-01-03 17:40:03,673 INFO mapreduce.JobSubmitter: Submitting tokens for job: job_1704291364136_0012\n",
      "2024-01-03 17:40:03,673 INFO mapreduce.JobSubmitter: Executing with tokens: []\n",
      "2024-01-03 17:40:03,873 INFO conf.Configuration: resource-types.xml not found\n",
      "2024-01-03 17:40:03,873 INFO resource.ResourceUtils: Unable to find 'resource-types.xml'.\n",
      "2024-01-03 17:40:03,987 INFO impl.YarnClientImpl: Submitted application application_1704291364136_0012\n",
      "2024-01-03 17:40:04,059 INFO mapreduce.Job: The url to track the job: http://rc1a-dataproc-m-2dnw3p4s8fl6b5t7.mdb.yandexcloud.net:8088/proxy/application_1704291364136_0012/\n",
      "2024-01-03 17:40:04,059 INFO tools.DistCp: DistCp job-id: job_1704291364136_0012\n",
      "2024-01-03 17:40:04,060 INFO mapreduce.Job: Running job: job_1704291364136_0012\n",
      "2024-01-03 17:40:09,129 INFO mapreduce.Job: Job job_1704291364136_0012 running in uber mode : false\n",
      "2024-01-03 17:40:09,130 INFO mapreduce.Job:  map 0% reduce 0%\n",
      "2024-01-03 17:40:16,191 INFO mapreduce.Job:  map 5% reduce 0%\n",
      "2024-01-03 17:40:18,203 INFO mapreduce.Job:  map 9% reduce 0%\n",
      "2024-01-03 17:40:19,211 INFO mapreduce.Job:  map 18% reduce 0%\n",
      "2024-01-03 17:40:21,223 INFO mapreduce.Job:  map 27% reduce 0%\n",
      "2024-01-03 17:40:22,227 INFO mapreduce.Job:  map 32% reduce 0%\n",
      "2024-01-03 17:40:23,235 INFO mapreduce.Job:  map 36% reduce 0%\n",
      "2024-01-03 17:40:24,240 INFO mapreduce.Job:  map 45% reduce 0%\n",
      "2024-01-03 17:40:25,249 INFO mapreduce.Job:  map 55% reduce 0%\n",
      "2024-01-03 17:40:26,254 INFO mapreduce.Job:  map 73% reduce 0%\n",
      "2024-01-03 17:40:27,258 INFO mapreduce.Job:  map 82% reduce 0%\n",
      "2024-01-03 17:40:28,262 INFO mapreduce.Job:  map 95% reduce 0%\n",
      "2024-01-03 17:40:30,270 INFO mapreduce.Job:  map 100% reduce 0%\n",
      "2024-01-03 17:40:30,283 INFO mapreduce.Job: Job job_1704291364136_0012 completed successfully\n",
      "2024-01-03 17:40:30,355 INFO mapreduce.Job: Counters: 43\n",
      "\tFile System Counters\n",
      "\t\tFILE: Number of bytes read=0\n",
      "\t\tFILE: Number of bytes written=5332042\n",
      "\t\tFILE: Number of read operations=0\n",
      "\t\tFILE: Number of large read operations=0\n",
      "\t\tFILE: Number of write operations=0\n",
      "\t\tHDFS: Number of bytes read=69454\n",
      "\t\tHDFS: Number of bytes written=1008085838\n",
      "\t\tHDFS: Number of read operations=802\n",
      "\t\tHDFS: Number of large read operations=0\n",
      "\t\tHDFS: Number of write operations=671\n",
      "\t\tHDFS: Number of bytes read erasure-coded=0\n",
      "\t\tS3A: Number of bytes read=1008085838\n",
      "\t\tS3A: Number of bytes written=0\n",
      "\t\tS3A: Number of read operations=403\n",
      "\t\tS3A: Number of large read operations=0\n",
      "\t\tS3A: Number of write operations=0\n",
      "\tJob Counters \n",
      "\t\tLaunched map tasks=22\n",
      "\t\tOther local map tasks=22\n",
      "\t\tTotal time spent by all maps in occupied slots (ms)=590184\n",
      "\t\tTotal time spent by all reduces in occupied slots (ms)=0\n",
      "\t\tTotal time spent by all map tasks (ms)=196728\n",
      "\t\tTotal vcore-milliseconds taken by all map tasks=196728\n",
      "\t\tTotal megabyte-milliseconds taken by all map tasks=604348416\n",
      "\tMap-Reduce Framework\n",
      "\t\tMap input records=202\n",
      "\t\tMap output records=0\n",
      "\t\tInput split bytes=2992\n",
      "\t\tSpilled Records=0\n",
      "\t\tFailed Shuffles=0\n",
      "\t\tMerged Map outputs=0\n",
      "\t\tGC time elapsed (ms)=7399\n",
      "\t\tCPU time spent (ms)=155650\n",
      "\t\tPhysical memory (bytes) snapshot=10827730944\n",
      "\t\tVirtual memory (bytes) snapshot=96736342016\n",
      "\t\tTotal committed heap usage (bytes)=13558087680\n",
      "\t\tPeak Map Physical memory (bytes)=591306752\n",
      "\t\tPeak Map Virtual memory (bytes)=4464726016\n",
      "\tFile Input Format Counters \n",
      "\t\tBytes Read=66462\n",
      "\tFile Output Format Counters \n",
      "\t\tBytes Written=0\n",
      "\tDistCp Counters\n",
      "\t\tBandwidth in Btyes=213387076\n",
      "\t\tBytes Copied=1008085838\n",
      "\t\tBytes Expected=1008085838\n",
      "\t\tFiles Copied=201\n",
      "\t\tDIR_COPY=1\n",
      "2024-01-03 17:40:30,361 INFO impl.MetricsSystemImpl: Stopping s3a-file-system metrics system...\n",
      "2024-01-03 17:40:30,362 INFO impl.MetricsSystemImpl: s3a-file-system metrics system stopped.\n",
      "2024-01-03 17:40:30,362 INFO impl.MetricsSystemImpl: s3a-file-system metrics system shutdown complete.\n"
     ]
    }
   ],
   "source": [
    "! hadoop distcp s3a://fraudstop/data_clean/df2.parquet /user/data_clean"
   ]
  },
  {
   "cell_type": "code",
   "execution_count": 228,
   "id": "eae90b43",
   "metadata": {},
   "outputs": [],
   "source": [
    "# df = (spark.read.format('parquet').load(\"s3a://fraudstop/data_clean/df.parquet\"))\n",
    "df = spark.read.parquet(\"/user/data_clean/df.parquet\")"
   ]
  },
  {
   "cell_type": "code",
   "execution_count": 137,
   "id": "5ef2f7b1",
   "metadata": {},
   "outputs": [
    {
     "data": {
      "text/html": [
       "<table border='1'>\n",
       "<tr><th>transaction_id</th><th>tx_datetime</th><th>customer_id</th><th>terminal_id</th><th>tx_amount</th><th>tx_time_seconds</th><th>tx_time_days</th><th>tx_fraud</th><th>tx_fraud_scenario</th></tr>\n",
       "<tr><td>7024176</td><td>2019-08-26 17:40:48</td><td>484699</td><td>942</td><td>87.75</td><td>409248</td><td>4</td><td>0</td><td>0</td></tr>\n",
       "<tr><td>7024183</td><td>2019-08-26 18:16:29</td><td>484704</td><td>88</td><td>132.63</td><td>411389</td><td>4</td><td>0</td><td>0</td></tr>\n",
       "<tr><td>7025110</td><td>2019-08-26 08:43:12</td><td>485299</td><td>385</td><td>14.35</td><td>376992</td><td>4</td><td>0</td><td>0</td></tr>\n",
       "<tr><td>7025517</td><td>2019-08-26 10:40:09</td><td>485558</td><td>0</td><td>74.46</td><td>384009</td><td>4</td><td>0</td><td>0</td></tr>\n",
       "<tr><td>7025711</td><td>2019-08-26 10:52:21</td><td>485697</td><td>117</td><td>13.22</td><td>384741</td><td>4</td><td>0</td><td>0</td></tr>\n",
       "<tr><td>7025840</td><td>2019-08-26 12:03:30</td><td>485769</td><td>448</td><td>69.9</td><td>389010</td><td>4</td><td>0</td><td>0</td></tr>\n",
       "<tr><td>7025999</td><td>2019-08-26 12:06:17</td><td>485872</td><td>585</td><td>61.53</td><td>389177</td><td>4</td><td>0</td><td>0</td></tr>\n",
       "<tr><td>7026025</td><td>2019-08-26 10:26:52</td><td>485887</td><td>276</td><td>41.58</td><td>383212</td><td>4</td><td>0</td><td>0</td></tr>\n",
       "<tr><td>7026180</td><td>2019-08-26 04:51:41</td><td>485991</td><td>310</td><td>5.31</td><td>363101</td><td>4</td><td>0</td><td>0</td></tr>\n",
       "<tr><td>7026287</td><td>2019-08-26 20:19:30</td><td>486070</td><td>781</td><td>45.9</td><td>418770</td><td>4</td><td>0</td><td>0</td></tr>\n",
       "<tr><td>7026419</td><td>2019-08-26 09:29:53</td><td>486160</td><td>463</td><td>82.71</td><td>379793</td><td>4</td><td>0</td><td>0</td></tr>\n",
       "<tr><td>7026451</td><td>2019-08-26 08:36:38</td><td>486182</td><td>686</td><td>112.44</td><td>376598</td><td>4</td><td>0</td><td>0</td></tr>\n",
       "<tr><td>7026604</td><td>2019-08-26 10:00:32</td><td>486290</td><td>328</td><td>27.93</td><td>381632</td><td>4</td><td>0</td><td>0</td></tr>\n",
       "<tr><td>7026674</td><td>2019-08-26 09:31:57</td><td>486328</td><td>598</td><td>111.74</td><td>379917</td><td>4</td><td>0</td><td>0</td></tr>\n",
       "<tr><td>7026925</td><td>2019-08-26 04:11:45</td><td>486491</td><td>267</td><td>107.49</td><td>360705</td><td>4</td><td>0</td><td>0</td></tr>\n",
       "<tr><td>7027392</td><td>2019-08-26 14:02:39</td><td>486797</td><td>437</td><td>140.78</td><td>396159</td><td>4</td><td>0</td><td>0</td></tr>\n",
       "<tr><td>7027714</td><td>2019-08-26 03:12:41</td><td>486995</td><td>829</td><td>52.72</td><td>357161</td><td>4</td><td>1</td><td>2</td></tr>\n",
       "<tr><td>7027805</td><td>2019-08-26 09:25:28</td><td>487046</td><td>545</td><td>100.25</td><td>379528</td><td>4</td><td>0</td><td>0</td></tr>\n",
       "<tr><td>7027838</td><td>2019-08-26 13:39:28</td><td>487064</td><td>764</td><td>14.71</td><td>394768</td><td>4</td><td>0</td><td>0</td></tr>\n",
       "<tr><td>7027997</td><td>2019-08-26 09:04:30</td><td>487161</td><td>331</td><td>27.5</td><td>378270</td><td>4</td><td>0</td><td>0</td></tr>\n",
       "</table>\n",
       "only showing top 20 rows\n"
      ],
      "text/plain": [
       "+--------------+-------------------+-----------+-----------+---------+---------------+------------+--------+-----------------+\n",
       "|transaction_id|        tx_datetime|customer_id|terminal_id|tx_amount|tx_time_seconds|tx_time_days|tx_fraud|tx_fraud_scenario|\n",
       "+--------------+-------------------+-----------+-----------+---------+---------------+------------+--------+-----------------+\n",
       "|       7024176|2019-08-26 17:40:48|     484699|        942|    87.75|         409248|           4|       0|                0|\n",
       "|       7024183|2019-08-26 18:16:29|     484704|         88|   132.63|         411389|           4|       0|                0|\n",
       "|       7025110|2019-08-26 08:43:12|     485299|        385|    14.35|         376992|           4|       0|                0|\n",
       "|       7025517|2019-08-26 10:40:09|     485558|          0|    74.46|         384009|           4|       0|                0|\n",
       "|       7025711|2019-08-26 10:52:21|     485697|        117|    13.22|         384741|           4|       0|                0|\n",
       "|       7025840|2019-08-26 12:03:30|     485769|        448|     69.9|         389010|           4|       0|                0|\n",
       "|       7025999|2019-08-26 12:06:17|     485872|        585|    61.53|         389177|           4|       0|                0|\n",
       "|       7026025|2019-08-26 10:26:52|     485887|        276|    41.58|         383212|           4|       0|                0|\n",
       "|       7026180|2019-08-26 04:51:41|     485991|        310|     5.31|         363101|           4|       0|                0|\n",
       "|       7026287|2019-08-26 20:19:30|     486070|        781|     45.9|         418770|           4|       0|                0|\n",
       "|       7026419|2019-08-26 09:29:53|     486160|        463|    82.71|         379793|           4|       0|                0|\n",
       "|       7026451|2019-08-26 08:36:38|     486182|        686|   112.44|         376598|           4|       0|                0|\n",
       "|       7026604|2019-08-26 10:00:32|     486290|        328|    27.93|         381632|           4|       0|                0|\n",
       "|       7026674|2019-08-26 09:31:57|     486328|        598|   111.74|         379917|           4|       0|                0|\n",
       "|       7026925|2019-08-26 04:11:45|     486491|        267|   107.49|         360705|           4|       0|                0|\n",
       "|       7027392|2019-08-26 14:02:39|     486797|        437|   140.78|         396159|           4|       0|                0|\n",
       "|       7027714|2019-08-26 03:12:41|     486995|        829|    52.72|         357161|           4|       1|                2|\n",
       "|       7027805|2019-08-26 09:25:28|     487046|        545|   100.25|         379528|           4|       0|                0|\n",
       "|       7027838|2019-08-26 13:39:28|     487064|        764|    14.71|         394768|           4|       0|                0|\n",
       "|       7027997|2019-08-26 09:04:30|     487161|        331|     27.5|         378270|           4|       0|                0|\n",
       "+--------------+-------------------+-----------+-----------+---------+---------------+------------+--------+-----------------+\n",
       "only showing top 20 rows"
      ]
     },
     "execution_count": 137,
     "metadata": {},
     "output_type": "execute_result"
    }
   ],
   "source": [
    "df"
   ]
  },
  {
   "cell_type": "code",
   "execution_count": 200,
   "id": "58958321",
   "metadata": {},
   "outputs": [
    {
     "data": {
      "text/plain": [
       "'http://158.160.36.33:8000'"
      ]
     },
     "execution_count": 200,
     "metadata": {},
     "output_type": "execute_result"
    }
   ],
   "source": [
    "mlflow.get_tracking_uri()"
   ]
  },
  {
   "cell_type": "code",
   "execution_count": 12,
   "id": "1d5f99e4",
   "metadata": {},
   "outputs": [
    {
     "data": {
      "text/plain": [
       "'1'"
      ]
     },
     "execution_count": 12,
     "metadata": {},
     "output_type": "execute_result"
    }
   ],
   "source": [
    "client = MlflowClient()\n",
    "experiment_id = client.create_experiment(\"antifraud_notebook\")\n",
    "experiment_id"
   ]
  },
  {
   "cell_type": "code",
   "execution_count": 13,
   "id": "a919b44b",
   "metadata": {},
   "outputs": [
    {
     "name": "stdout",
     "output_type": "stream",
     "text": [
      "Experiment Name: antifraud_notebook\n",
      "Experiment ID: 1\n",
      "Created Time: 1704530013367\n"
     ]
    }
   ],
   "source": [
    "experiment = client.get_experiment_by_name(\"antifraud_notebook\")\n",
    "print(\"Experiment Name:\", experiment.name)\n",
    "print(\"Experiment ID:\", experiment.experiment_id)\n",
    "print(\"Created Time:\", experiment.creation_time)"
   ]
  },
  {
   "cell_type": "code",
   "execution_count": 82,
   "id": "119f361c",
   "metadata": {},
   "outputs": [
    {
     "data": {
      "text/plain": [
       "[<Experiment: artifact_location='s3://fraudstop/artifacts/1', creation_time=1704299135126, experiment_id='1', last_update_time=1704299135126, lifecycle_stage='active', name='antiFraud-ml', tags={}>,\n",
       " <Experiment: artifact_location='s3://fraudstop/artifacts/0', creation_time=1704294580264, experiment_id='0', last_update_time=1704294580264, lifecycle_stage='active', name='Default', tags={}>]"
      ]
     },
     "execution_count": 82,
     "metadata": {},
     "output_type": "execute_result"
    }
   ],
   "source": [
    "client.search_experiments()"
   ]
  },
  {
   "cell_type": "code",
   "execution_count": 16,
   "id": "f2ced016",
   "metadata": {},
   "outputs": [],
   "source": [
    "# experiment_id = client.create_experiment(\"testmlflow\")"
   ]
  },
  {
   "cell_type": "code",
   "execution_count": 17,
   "id": "50fef63f",
   "metadata": {},
   "outputs": [
    {
     "name": "stdout",
     "output_type": "stream",
     "text": [
      "Experiment Name: testmlflow\n",
      "Experiment ID: 1\n",
      "Created Time: 1704215903651\n"
     ]
    }
   ],
   "source": [
    "# experiment = client.get_experiment_by_name(\"testmlflow\")\n",
    "# print(\"Experiment Name:\", experiment.name)\n",
    "# print(\"Experiment ID:\", experiment.experiment_id)\n",
    "# print(\"Created Time:\", experiment.creation_time)\n"
   ]
  },
  {
   "cell_type": "code",
   "execution_count": 14,
   "id": "88ec351e",
   "metadata": {},
   "outputs": [
    {
     "data": {
      "text/plain": [
       "<RegisteredModel: aliases={}, creation_timestamp=1704324972123, description='This sentiment analysis model classifies the tone-happy, sad, angry.', last_updated_timestamp=1704324972123, latest_versions=[], name='SocialMediaTextAnalyzer', tags={'nlp.framework': 'Spark NLP'}>"
      ]
     },
     "execution_count": 14,
     "metadata": {},
     "output_type": "execute_result"
    }
   ],
   "source": [
    "# name = \"SocialMediaTextAnalyzer\"\n",
    "# tags = {\"nlp.framework\": \"Spark NLP\"}\n",
    "# desc = \"This sentiment analysis model classifies the tone-happy, sad, angry.\"\n",
    "# client.create_registered_model(name, tags, desc)"
   ]
  },
  {
   "cell_type": "markdown",
   "id": "8469e938",
   "metadata": {},
   "source": [
    "# FE"
   ]
  },
  {
   "cell_type": "markdown",
   "id": "5e3fcb79",
   "metadata": {},
   "source": [
    "В нашем датасете признаков для обучения модели немного, начну с тех что есть customer_id, terminal_id, tx_amount\n",
    "и добавлю время суток, для этог посчитаю кол-во минут от начала суток, есть сомнения насчёт customer_id"
   ]
  },
  {
   "cell_type": "code",
   "execution_count": 229,
   "id": "954f9954",
   "metadata": {},
   "outputs": [],
   "source": [
    "data = df.select('customer_id', 'terminal_id', 'tx_amount', 'tx_time_seconds', 'tx_fraud')"
   ]
  },
  {
   "cell_type": "code",
   "execution_count": 58,
   "id": "defe490a",
   "metadata": {},
   "outputs": [
    {
     "name": "stdout",
     "output_type": "stream",
     "text": [
      "[('timestamp', 'timestamp'), ('customer_id', 'int'), ('terminal_id', 'int'), ('tx_amount', 'double'), ('tx_fraud', 'int'), ('hour_from_start', 'int')]\n"
     ]
    }
   ],
   "source": [
    "print(data.dtypes)"
   ]
  },
  {
   "cell_type": "code",
   "execution_count": 89,
   "id": "d60572fa",
   "metadata": {},
   "outputs": [
    {
     "data": {
      "text/html": [
       "<table border='1'>\n",
       "<tr><th>customer_id</th><th>terminal_id</th><th>tx_amount</th><th>tx_time_seconds</th><th>tx_fraud</th></tr>\n",
       "<tr><td>127</td><td>327</td><td>15.43</td><td>10068</td><td>0</td></tr>\n",
       "<tr><td>251</td><td>284</td><td>100.68</td><td>68959</td><td>0</td></tr>\n",
       "<tr><td>419</td><td>844</td><td>67.96</td><td>52102</td><td>1</td></tr>\n",
       "<tr><td>691</td><td>80</td><td>7.17</td><td>23688</td><td>0</td></tr>\n",
       "<tr><td>851</td><td>665</td><td>27.15</td><td>52395</td><td>0</td></tr>\n",
       "<tr><td>1107</td><td>109</td><td>13.64</td><td>33870</td><td>0</td></tr>\n",
       "<tr><td>1155</td><td>225</td><td>110.84</td><td>28106</td><td>0</td></tr>\n",
       "<tr><td>1278</td><td>563</td><td>5.97</td><td>15831</td><td>0</td></tr>\n",
       "<tr><td>1316</td><td>450</td><td>5.5</td><td>40149</td><td>1</td></tr>\n",
       "<tr><td>1557</td><td>710</td><td>77.72</td><td>44870</td><td>0</td></tr>\n",
       "<tr><td>1610</td><td>399</td><td>17.46</td><td>18873</td><td>1</td></tr>\n",
       "<tr><td>1698</td><td>920</td><td>70.23</td><td>67331</td><td>0</td></tr>\n",
       "<tr><td>1761</td><td>238</td><td>89.25</td><td>54931</td><td>0</td></tr>\n",
       "<tr><td>1881</td><td>332</td><td>131.13</td><td>60948</td><td>0</td></tr>\n",
       "<tr><td>2164</td><td>832</td><td>85.72</td><td>49122</td><td>0</td></tr>\n",
       "<tr><td>2551</td><td>655</td><td>31.75</td><td>48513</td><td>0</td></tr>\n",
       "<tr><td>2588</td><td>903</td><td>32.65</td><td>24280</td><td>0</td></tr>\n",
       "<tr><td>2754</td><td>470</td><td>1.4</td><td>65685</td><td>0</td></tr>\n",
       "<tr><td>2877</td><td>253</td><td>52.21</td><td>48093</td><td>0</td></tr>\n",
       "<tr><td>3745</td><td>989</td><td>116.49</td><td>45819</td><td>0</td></tr>\n",
       "</table>\n",
       "only showing top 20 rows\n"
      ],
      "text/plain": [
       "+-----------+-----------+---------+---------------+--------+\n",
       "|customer_id|terminal_id|tx_amount|tx_time_seconds|tx_fraud|\n",
       "+-----------+-----------+---------+---------------+--------+\n",
       "|        127|        327|    15.43|          10068|       0|\n",
       "|        251|        284|   100.68|          68959|       0|\n",
       "|        419|        844|    67.96|          52102|       1|\n",
       "|        691|         80|     7.17|          23688|       0|\n",
       "|        851|        665|    27.15|          52395|       0|\n",
       "|       1107|        109|    13.64|          33870|       0|\n",
       "|       1155|        225|   110.84|          28106|       0|\n",
       "|       1278|        563|     5.97|          15831|       0|\n",
       "|       1316|        450|      5.5|          40149|       1|\n",
       "|       1557|        710|    77.72|          44870|       0|\n",
       "|       1610|        399|    17.46|          18873|       1|\n",
       "|       1698|        920|    70.23|          67331|       0|\n",
       "|       1761|        238|    89.25|          54931|       0|\n",
       "|       1881|        332|   131.13|          60948|       0|\n",
       "|       2164|        832|    85.72|          49122|       0|\n",
       "|       2551|        655|    31.75|          48513|       0|\n",
       "|       2588|        903|    32.65|          24280|       0|\n",
       "|       2754|        470|      1.4|          65685|       0|\n",
       "|       2877|        253|    52.21|          48093|       0|\n",
       "|       3745|        989|   116.49|          45819|       0|\n",
       "+-----------+-----------+---------+---------------+--------+\n",
       "only showing top 20 rows"
      ]
     },
     "execution_count": 89,
     "metadata": {},
     "output_type": "execute_result"
    }
   ],
   "source": [
    "data"
   ]
  },
  {
   "cell_type": "code",
   "execution_count": 52,
   "id": "389713bc",
   "metadata": {},
   "outputs": [],
   "source": [
    "# data = data.withColumn(\"timestamp\", F.to_timestamp(data[\"tx_datetime\"], \"yyyy-MM-dd HH:mm:ss\"))\n",
    "# df = df.withColumn(\"timestamp\", to_timestamp(df[\"timestamp\"], \"yyyy-MM-dd HH:mm:ss\"))\n",
    "# Создание колонки \"minutes_from_start\" с количеством минут от начала суток\n",
    "# data = data.withColumn(\"minutes_from_start\", F.minute(data[\"timestamp\"]))"
   ]
  },
  {
   "cell_type": "code",
   "execution_count": 57,
   "id": "20a8d277",
   "metadata": {},
   "outputs": [],
   "source": [
    "# data = data.withColumn(\"hour_from_start\", F.hour(data[\"timestamp\"]))"
   ]
  },
  {
   "cell_type": "code",
   "execution_count": 85,
   "id": "8b6b4955",
   "metadata": {},
   "outputs": [
    {
     "data": {
      "text/html": [
       "<table border='1'>\n",
       "<tr><th>summary</th><th>customer_id</th><th>terminal_id</th><th>tx_amount</th><th>tx_time_seconds</th><th>tx_fraud</th></tr>\n",
       "<tr><td>count</td><td>45683790</td><td>45683790</td><td>45683790</td><td>45683790</td><td>45683790</td></tr>\n",
       "<tr><td>mean</td><td>500449.0352239602</td><td>26601.728341168717</td><td>50.78766711628015</td><td>1296073.8352382104</td><td>0.05236172392877211</td></tr>\n",
       "<tr><td>stddev</td><td>288530.40631089243</td><td>1528269.3368947941</td><td>35.25709865412637</td><td>748058.7987241015</td><td>0.222755414933374</td></tr>\n",
       "<tr><td>min</td><td>0</td><td>0</td><td>0.0</td><td>0</td><td>0</td></tr>\n",
       "<tr><td>max</td><td>999999</td><td>89518096</td><td>146.99</td><td>2592000</td><td>1</td></tr>\n",
       "</table>\n"
      ],
      "text/plain": [
       "+-------+------------------+------------------+-----------------+------------------+-------------------+\n",
       "|summary|       customer_id|       terminal_id|        tx_amount|   tx_time_seconds|           tx_fraud|\n",
       "+-------+------------------+------------------+-----------------+------------------+-------------------+\n",
       "|  count|          45683790|          45683790|         45683790|          45683790|           45683790|\n",
       "|   mean| 500449.0352239602|26601.728341168717|50.78766711628015|1296073.8352382104|0.05236172392877211|\n",
       "| stddev|288530.40631089243|1528269.3368947941|35.25709865412637| 748058.7987241015|  0.222755414933374|\n",
       "|    min|                 0|                 0|              0.0|                 0|                  0|\n",
       "|    max|            999999|          89518096|           146.99|           2592000|                  1|\n",
       "+-------+------------------+------------------+-----------------+------------------+-------------------+"
      ]
     },
     "execution_count": 85,
     "metadata": {},
     "output_type": "execute_result"
    }
   ],
   "source": [
    "data.describe()"
   ]
  },
  {
   "cell_type": "code",
   "execution_count": 230,
   "id": "34768b12",
   "metadata": {},
   "outputs": [],
   "source": [
    "FEATURES = ['customer_id', 'terminal_id', 'tx_amount', 'tx_time_seconds']"
   ]
  },
  {
   "cell_type": "code",
   "execution_count": 80,
   "id": "05e9751f",
   "metadata": {},
   "outputs": [],
   "source": [
    "# data = data.withColumn(\"minutes_from_start\", col(\"minutes_from_start\").cast(\"double\"))"
   ]
  },
  {
   "cell_type": "code",
   "execution_count": 28,
   "id": "c1ea6830",
   "metadata": {},
   "outputs": [
    {
     "name": "stdout",
     "output_type": "stream",
     "text": [
      "[('minutes_from_start', 'int'), ('customer_id', 'int'), ('terminal_id', 'int'), ('tx_amount', 'double'), ('tx_fraud', 'int'), ('features', 'vector')]\n"
     ]
    }
   ],
   "source": [
    "# print(train_data.dtypes)"
   ]
  },
  {
   "cell_type": "code",
   "execution_count": 231,
   "id": "547285fe",
   "metadata": {},
   "outputs": [],
   "source": [
    "assembler = VectorAssembler()\\\n",
    "    .setInputCols(['customer_id', 'terminal_id', 'tx_amount', 'tx_time_seconds'])\\\n",
    "    .setOutputCol(\"features\")\n",
    "\n",
    "train_data = assembler.transform(data)"
   ]
  },
  {
   "cell_type": "code",
   "execution_count": 232,
   "id": "70c66532",
   "metadata": {},
   "outputs": [
    {
     "name": "stderr",
     "output_type": "stream",
     "text": [
      "Exception ignored in: <function JavaWrapper.__del__ at 0x7f00e0286b80>\n",
      "Traceback (most recent call last):\n",
      "  File \"/usr/lib/spark/python/pyspark/ml/wrapper.py\", line 42, in __del__\n",
      "    if SparkContext._active_spark_context and self._java_obj is not None:\n",
      "AttributeError: 'RandomForestClassifier' object has no attribute '_java_obj'\n"
     ]
    }
   ],
   "source": [
    "# формируем трансформер, передаем входные и выходные столбцы \n",
    "scaler = MinMaxScaler()\\\n",
    "    .setInputCol(\"features\")\\\n",
    "    .setOutputCol(\"scaledFeatures\")\n",
    "\n",
    "# преобразовываем\n",
    "train_data = scaler.fit(train_data).transform(train_data)"
   ]
  },
  {
   "cell_type": "code",
   "execution_count": 233,
   "id": "08c576bb",
   "metadata": {},
   "outputs": [],
   "source": [
    "from pyspark.ml.classification import RandomForestClassifier\n",
    "from pyspark.ml.evaluation import MulticlassClassificationEvaluator\n",
    "from pyspark.ml.evaluation import BinaryClassificationEvaluator"
   ]
  },
  {
   "cell_type": "code",
   "execution_count": 234,
   "id": "951baf98",
   "metadata": {},
   "outputs": [],
   "source": [
    "splits = train_data.randomSplit([0.9, 0.1], 24)\n",
    "training = splits[0]\n",
    "test = splits[1]"
   ]
  },
  {
   "cell_type": "code",
   "execution_count": 24,
   "id": "72dc5a61",
   "metadata": {},
   "outputs": [],
   "source": [
    "rf = RandomForestClassifier(labelCol=\"tx_fraud\", featuresCol=\"features\", numTrees=40, seed=seed )"
   ]
  },
  {
   "cell_type": "code",
   "execution_count": 158,
   "id": "92302f1a",
   "metadata": {},
   "outputs": [],
   "source": [
    "# training"
   ]
  },
  {
   "cell_type": "code",
   "execution_count": 25,
   "id": "eafb154e",
   "metadata": {},
   "outputs": [],
   "source": [
    "evaluator = MulticlassClassificationEvaluator(metricName='fMeasureByLabel', metricLabel=1, beta=1.0) "
   ]
  },
  {
   "cell_type": "code",
   "execution_count": 26,
   "id": "d7bafe29",
   "metadata": {},
   "outputs": [],
   "source": [
    "run_name = 'RF_baseline'\n",
    "\n",
    "with mlflow.start_run(run_name=run_name, experiment_id=experiment.experiment_id):\n",
    "    mlflow.log_param('features', FEATURES)\n",
    "    mlflow.log_param('numTrees', 40)\n",
    "    \n",
    "    model = rf.fit(training)\n",
    "    \n",
    "    evaluator = RegressionEvaluator(labelCol='tx_fraud')\n",
    "    predictions = model.transform(test)\n",
    "    F1 = evaluator.evaluate(predictions)\n",
    "    \n",
    "    mlflow.log_metric(\"F1\", F1)\n",
    "    mlflow.spark.save_model(model, \"random_forest\")\n",
    "\n",
    "    mlflow.spark.log_model(model, \"random_forest\")"
   ]
  },
  {
   "cell_type": "code",
   "execution_count": 30,
   "id": "5b7d5cba",
   "metadata": {},
   "outputs": [
    {
     "data": {
      "text/plain": [
       "0.23237575345271957"
      ]
     },
     "execution_count": 30,
     "metadata": {},
     "output_type": "execute_result"
    }
   ],
   "source": [
    "metrics = MulticlassMetrics(predictionAndLabels)"
   ]
  },
  {
   "cell_type": "code",
   "execution_count": 45,
   "id": "de2440b6",
   "metadata": {},
   "outputs": [
    {
     "data": {
      "text/plain": [
       "0.0"
      ]
     },
     "execution_count": 45,
     "metadata": {},
     "output_type": "execute_result"
    }
   ],
   "source": [
    "evaluator = MulticlassClassificationEvaluator(metricName='fMeasureByLabel', \n",
    "                                              metricLabel=1, beta=1.0, labelCol='tx_fraud') \n",
    "f1_score = evaluator.evaluate(predictions)\n",
    "f1_score"
   ]
  },
  {
   "cell_type": "code",
   "execution_count": 46,
   "id": "03c0866a",
   "metadata": {},
   "outputs": [
    {
     "data": {
      "text/plain": [
       "0.09633582960376492"
      ]
     },
     "execution_count": 46,
     "metadata": {},
     "output_type": "execute_result"
    }
   ],
   "source": [
    "evaluator = BinaryClassificationEvaluator(metricName='areaUnderPR', labelCol='tx_fraud') \n",
    "areaUnderPR = evaluator.evaluate(predictions)\n",
    "areaUnderPR"
   ]
  },
  {
   "cell_type": "code",
   "execution_count": null,
   "id": "4989d07a",
   "metadata": {},
   "outputs": [],
   "source": []
  },
  {
   "cell_type": "code",
   "execution_count": 101,
   "id": "95597bcd",
   "metadata": {},
   "outputs": [
    {
     "data": {
      "text/html": [
       "<table border='1'>\n",
       "<tr><th>customer_id</th><th>terminal_id</th><th>tx_amount</th><th>tx_time_seconds</th><th>tx_fraud</th><th>features</th><th>scaledFeatures</th></tr>\n",
       "<tr><td>13</td><td>489</td><td>89.34</td><td>2009974</td><td>1</td><td>[13.0,489.0,89.34...</td><td>[1.30000130000129...</td></tr>\n",
       "<tr><td>13</td><td>955</td><td>111.55</td><td>396952</td><td>1</td><td>[13.0,955.0,111.5...</td><td>[1.30000130000129...</td></tr>\n",
       "<tr><td>15</td><td>61</td><td>47.8</td><td>3363354</td><td>1</td><td>[15.0,61.0,47.8,3...</td><td>[1.50000150000149...</td></tr>\n",
       "<tr><td>15</td><td>61</td><td>55.96</td><td>2897217</td><td>1</td><td>[15.0,61.0,55.96,...</td><td>[1.50000150000149...</td></tr>\n",
       "<tr><td>21</td><td>81</td><td>142.76</td><td>4190690</td><td>1</td><td>[21.0,81.0,142.76...</td><td>[2.1000021000021E...</td></tr>\n",
       "<tr><td>25</td><td>5</td><td>25.75</td><td>1339276</td><td>1</td><td>[25.0,5.0,25.75,1...</td><td>[2.50000250000249...</td></tr>\n",
       "<tr><td>31</td><td>640</td><td>96.95</td><td>1802475</td><td>1</td><td>[31.0,640.0,96.95...</td><td>[3.10000310000309...</td></tr>\n",
       "<tr><td>32</td><td>298</td><td>90.06</td><td>826039</td><td>1</td><td>[32.0,298.0,90.06...</td><td>[3.2000032000032E...</td></tr>\n",
       "<tr><td>38</td><td>705</td><td>36.24</td><td>2551623</td><td>1</td><td>[38.0,705.0,36.24...</td><td>[3.80000380000379...</td></tr>\n",
       "<tr><td>57</td><td>940</td><td>99.93</td><td>330053</td><td>1</td><td>[57.0,940.0,99.93...</td><td>[5.70000570000569...</td></tr>\n",
       "<tr><td>59</td><td>338</td><td>145.74</td><td>2145313</td><td>1</td><td>[59.0,338.0,145.7...</td><td>[5.90000590000589...</td></tr>\n",
       "<tr><td>59</td><td>802</td><td>56.22</td><td>1607824</td><td>1</td><td>[59.0,802.0,56.22...</td><td>[5.90000590000589...</td></tr>\n",
       "<tr><td>63</td><td>828</td><td>7.89</td><td>1776020</td><td>1</td><td>[63.0,828.0,7.89,...</td><td>[6.3000063000063E...</td></tr>\n",
       "<tr><td>73</td><td>815</td><td>33.42</td><td>1043763</td><td>1</td><td>[73.0,815.0,33.42...</td><td>[7.3000073000073E...</td></tr>\n",
       "<tr><td>93</td><td>833</td><td>84.64</td><td>2005704</td><td>1</td><td>[93.0,833.0,84.64...</td><td>[9.30000930000929...</td></tr>\n",
       "<tr><td>93</td><td>833</td><td>103.77</td><td>2390962</td><td>1</td><td>[93.0,833.0,103.7...</td><td>[9.30000930000929...</td></tr>\n",
       "<tr><td>97</td><td>234</td><td>41.19</td><td>4389802</td><td>1</td><td>[97.0,234.0,41.19...</td><td>[9.70000970000969...</td></tr>\n",
       "<tr><td>102</td><td>5</td><td>85.46</td><td>104862</td><td>1</td><td>[102.0,5.0,85.46,...</td><td>[1.02000102000102...</td></tr>\n",
       "<tr><td>106</td><td>535</td><td>82.44</td><td>214397</td><td>1</td><td>[106.0,535.0,82.4...</td><td>[1.06000106000105...</td></tr>\n",
       "<tr><td>117</td><td>343</td><td>88.64</td><td>2968668</td><td>1</td><td>[117.0,343.0,88.6...</td><td>[1.17000117000116...</td></tr>\n",
       "</table>\n",
       "only showing top 20 rows\n"
      ],
      "text/plain": [
       "+-----------+-----------+---------+---------------+--------+--------------------+--------------------+\n",
       "|customer_id|terminal_id|tx_amount|tx_time_seconds|tx_fraud|            features|      scaledFeatures|\n",
       "+-----------+-----------+---------+---------------+--------+--------------------+--------------------+\n",
       "|         13|        489|    89.34|        2009974|       1|[13.0,489.0,89.34...|[1.30000130000129...|\n",
       "|         13|        955|   111.55|         396952|       1|[13.0,955.0,111.5...|[1.30000130000129...|\n",
       "|         15|         61|     47.8|        3363354|       1|[15.0,61.0,47.8,3...|[1.50000150000149...|\n",
       "|         15|         61|    55.96|        2897217|       1|[15.0,61.0,55.96,...|[1.50000150000149...|\n",
       "|         21|         81|   142.76|        4190690|       1|[21.0,81.0,142.76...|[2.1000021000021E...|\n",
       "|         25|          5|    25.75|        1339276|       1|[25.0,5.0,25.75,1...|[2.50000250000249...|\n",
       "|         31|        640|    96.95|        1802475|       1|[31.0,640.0,96.95...|[3.10000310000309...|\n",
       "|         32|        298|    90.06|         826039|       1|[32.0,298.0,90.06...|[3.2000032000032E...|\n",
       "|         38|        705|    36.24|        2551623|       1|[38.0,705.0,36.24...|[3.80000380000379...|\n",
       "|         57|        940|    99.93|         330053|       1|[57.0,940.0,99.93...|[5.70000570000569...|\n",
       "|         59|        338|   145.74|        2145313|       1|[59.0,338.0,145.7...|[5.90000590000589...|\n",
       "|         59|        802|    56.22|        1607824|       1|[59.0,802.0,56.22...|[5.90000590000589...|\n",
       "|         63|        828|     7.89|        1776020|       1|[63.0,828.0,7.89,...|[6.3000063000063E...|\n",
       "|         73|        815|    33.42|        1043763|       1|[73.0,815.0,33.42...|[7.3000073000073E...|\n",
       "|         93|        833|    84.64|        2005704|       1|[93.0,833.0,84.64...|[9.30000930000929...|\n",
       "|         93|        833|   103.77|        2390962|       1|[93.0,833.0,103.7...|[9.30000930000929...|\n",
       "|         97|        234|    41.19|        4389802|       1|[97.0,234.0,41.19...|[9.70000970000969...|\n",
       "|        102|          5|    85.46|         104862|       1|[102.0,5.0,85.46,...|[1.02000102000102...|\n",
       "|        106|        535|    82.44|         214397|       1|[106.0,535.0,82.4...|[1.06000106000105...|\n",
       "|        117|        343|    88.64|        2968668|       1|[117.0,343.0,88.6...|[1.17000117000116...|\n",
       "+-----------+-----------+---------+---------------+--------+--------------------+--------------------+\n",
       "only showing top 20 rows"
      ]
     },
     "execution_count": 101,
     "metadata": {},
     "output_type": "execute_result"
    }
   ],
   "source": [
    "# predictions.select('prediction').filter((col(\"prediction\") == 1))\n",
    "predictions.filter((col(\"prediction\") == 1))"
   ]
  },
  {
   "cell_type": "markdown",
   "id": "b6db4d0a",
   "metadata": {},
   "source": [
    "### Подбор гиперпараметров"
   ]
  },
  {
   "cell_type": "code",
   "execution_count": 243,
   "id": "459d9158",
   "metadata": {},
   "outputs": [],
   "source": [
    "from hyperopt import fmin, rand, tpe, hp, SparkTrials, STATUS_OK"
   ]
  },
  {
   "cell_type": "code",
   "execution_count": 244,
   "id": "a543a786",
   "metadata": {},
   "outputs": [],
   "source": [
    "space = {\n",
    "    \"numTrees\": hp.choice(\"numTrees\", [100, 200, 300, 400]),\n",
    "    \"maxDepth\": hp.quniform(\"maxDepth\", 2, 10, 1),\n",
    "    \"impurity\": hp.choice(\"impurity\", [\"gini\", \"entropy\"]),\n",
    "}"
   ]
  },
  {
   "cell_type": "code",
   "execution_count": 245,
   "id": "1043154f",
   "metadata": {},
   "outputs": [],
   "source": [
    "def hyperparameter_tuning(params):\n",
    "    numTrees = params[\"numTrees\"]\n",
    "    maxDepth = int(params[\"maxDepth\"])\n",
    "    impurity = params[\"impurity\"]\n",
    "    \n",
    "    rf = RandomForestClassifier(labelCol=\"tx_fraud\", featuresCol=\"features\", numTrees=numTrees, \n",
    "                                maxDepth=maxDepth,\n",
    "                                impurity=impurity)\n",
    "    \n",
    "    model = rf.fit(training)\n",
    "    evaluator = BinaryClassificationEvaluator(metricName='areaUnderPR', labelCol='tx_fraud')\n",
    "    \n",
    "    predictions = model.transform(test)\n",
    "    areaUnderPR = evaluator1.evaluate(predictions)\n",
    "    \n",
    "    loss = -areaUnderPR\n",
    "  \n",
    "    return {'loss': loss, 'status': STATUS_OK}"
   ]
  },
  {
   "cell_type": "code",
   "execution_count": null,
   "id": "57252bf7",
   "metadata": {},
   "outputs": [
    {
     "name": "stdout",
     "output_type": "stream",
     "text": [
      "  0%|          | 0/50 [00:00<?, ?trial/s, best loss=?]"
     ]
    }
   ],
   "source": [
    "best_spark = fmin(\n",
    "    fn=hyperparameter_tuning,\n",
    "    space = space, \n",
    "    algo=tpe.suggest, \n",
    "    max_evals=50\n",
    ")"
   ]
  },
  {
   "cell_type": "code",
   "execution_count": null,
   "id": "e67504f0",
   "metadata": {},
   "outputs": [],
   "source": []
  },
  {
   "cell_type": "markdown",
   "id": "f0482597",
   "metadata": {},
   "source": [
    "Другой способ"
   ]
  },
  {
   "cell_type": "code",
   "execution_count": 235,
   "id": "35eaa3ee",
   "metadata": {},
   "outputs": [],
   "source": [
    "from pyspark.ml.tuning import ParamGridBuilder, TrainValidationSplit"
   ]
  },
  {
   "cell_type": "code",
   "execution_count": 236,
   "id": "3163e468",
   "metadata": {},
   "outputs": [],
   "source": [
    "rf = RandomForestClassifier(labelCol=\"tx_fraud\", featuresCol=\"features\")"
   ]
  },
  {
   "cell_type": "code",
   "execution_count": 237,
   "id": "6d7c694a",
   "metadata": {},
   "outputs": [],
   "source": [
    "paramGrid = (ParamGridBuilder()\n",
    "    .addGrid(rf.numTrees, [100, 200])  #, 300, 400\n",
    "    .addGrid(rf.maxDepth, [2, 7]) #3, 4, 5, 6, \n",
    "    .addGrid(rf.impurity, [\"gini\"])\n",
    "    .build())"
   ]
  },
  {
   "cell_type": "code",
   "execution_count": 238,
   "id": "b11e44ad",
   "metadata": {},
   "outputs": [],
   "source": [
    "evaluator=BinaryClassificationEvaluator().setLabelCol(\"tx_fraud\")"
   ]
  },
  {
   "cell_type": "code",
   "execution_count": 240,
   "id": "cc2f9d75",
   "metadata": {},
   "outputs": [],
   "source": [
    "tvs = TrainValidationSplit(estimator=rf,\n",
    "                           estimatorParamMaps=paramGrid,\n",
    "                           evaluator=evaluator,\n",
    "                           # 80% of the data will be used for training, 20% for validation.\n",
    "                           trainRatio=0.8,\n",
    "                           parallelism=3)"
   ]
  },
  {
   "cell_type": "code",
   "execution_count": 242,
   "id": "8e90de72",
   "metadata": {},
   "outputs": [],
   "source": [
    "model = tvs.fit(training)"
   ]
  },
  {
   "cell_type": "code",
   "execution_count": null,
   "id": "22de5759",
   "metadata": {},
   "outputs": [],
   "source": [
    "param_map = model.bestModel.extractParamMap()\n",
    "for i in param_map:\n",
    "    print(f\"{i.name:<16}\\t{param_map[i]}\")"
   ]
  },
  {
   "cell_type": "code",
   "execution_count": 212,
   "id": "390b3fde",
   "metadata": {},
   "outputs": [],
   "source": [
    "# Make predictions on test data. model is the model with combination of parameters\n",
    "# that performed best.\n",
    "# model.transform(test)\\\n",
    "#     .select(\"features\", \"label\", \"prediction\")\\\n",
    "#     .show()\n",
    "\n",
    "predictions = model.transform(test)"
   ]
  },
  {
   "cell_type": "code",
   "execution_count": 213,
   "id": "a4a4025f",
   "metadata": {},
   "outputs": [
    {
     "data": {
      "text/html": [
       "<table border='1'>\n",
       "<tr><th>customer_id</th><th>terminal_id</th><th>tx_amount</th><th>tx_time_seconds</th><th>tx_fraud</th><th>features</th><th>scaledFeatures</th><th>rawPrediction</th><th>probability</th><th>prediction</th></tr>\n",
       "<tr><td>0</td><td>934</td><td>97.76</td><td>3092274</td><td>0</td><td>[0.0,934.0,97.76,...</td><td>[0.0,1.0433644611...</td><td>[18.9451642201814...</td><td>[0.94725821100907...</td><td>0.0</td></tr>\n",
       "<tr><td>3</td><td>205</td><td>1.19</td><td>3208915</td><td>0</td><td>[3.0,205.0,1.19,3...</td><td>[3.00000300000299...</td><td>[18.9451642201814...</td><td>[0.94725821100907...</td><td>0.0</td></tr>\n",
       "<tr><td>12</td><td>858</td><td>77.16</td><td>4649601</td><td>0</td><td>[12.0,858.0,77.16...</td><td>[1.20000120000119...</td><td>[18.8820135576199...</td><td>[0.94410067788099...</td><td>0.0</td></tr>\n",
       "<tr><td>18</td><td>515</td><td>99.54</td><td>2523051</td><td>0</td><td>[18.0,515.0,99.54...</td><td>[1.80000180000179...</td><td>[18.9451642201814...</td><td>[0.94725821100907...</td><td>0.0</td></tr>\n",
       "<tr><td>19</td><td>214</td><td>54.2</td><td>3037802</td><td>0</td><td>[19.0,214.0,54.2,...</td><td>[1.90000190000189...</td><td>[18.9451642201814...</td><td>[0.94725821100907...</td><td>0.0</td></tr>\n",
       "<tr><td>20</td><td>413</td><td>80.34</td><td>1055396</td><td>0</td><td>[20.0,413.0,80.34...</td><td>[2.00000200000199...</td><td>[18.9451642201814...</td><td>[0.94725821100907...</td><td>0.0</td></tr>\n",
       "<tr><td>21</td><td>401</td><td>99.85</td><td>5153808</td><td>0</td><td>[21.0,401.0,99.85...</td><td>[2.1000021000021E...</td><td>[18.9023051453165...</td><td>[0.94511525726582...</td><td>0.0</td></tr>\n",
       "<tr><td>24</td><td>943</td><td>104.01</td><td>4563025</td><td>1</td><td>[24.0,943.0,104.0...</td><td>[2.40000240000239...</td><td>[18.8996209511319...</td><td>[0.94498104755659...</td><td>0.0</td></tr>\n",
       "<tr><td>25</td><td>564</td><td>47.72</td><td>1340442</td><td>0</td><td>[25.0,564.0,47.72...</td><td>[2.50000250000249...</td><td>[18.9451642201814...</td><td>[0.94725821100907...</td><td>0.0</td></tr>\n",
       "<tr><td>25</td><td>619</td><td>5.34</td><td>306767</td><td>0</td><td>[25.0,619.0,5.34,...</td><td>[2.50000250000249...</td><td>[18.9451642201814...</td><td>[0.94725821100907...</td><td>0.0</td></tr>\n",
       "<tr><td>26</td><td>619</td><td>28.02</td><td>1437154</td><td>0</td><td>[26.0,619.0,28.02...</td><td>[2.60000260000259...</td><td>[18.9451642201814...</td><td>[0.94725821100907...</td><td>0.0</td></tr>\n",
       "<tr><td>31</td><td>404</td><td>13.36</td><td>4623253</td><td>0</td><td>[31.0,404.0,13.36...</td><td>[3.10000310000309...</td><td>[18.8820135576199...</td><td>[0.94410067788099...</td><td>0.0</td></tr>\n",
       "<tr><td>35</td><td>267</td><td>53.96</td><td>1504992</td><td>0</td><td>[35.0,267.0,53.96...</td><td>[3.5000035000035E...</td><td>[18.9451642201814...</td><td>[0.94725821100907...</td><td>0.0</td></tr>\n",
       "<tr><td>36</td><td>693</td><td>23.49</td><td>157709</td><td>0</td><td>[36.0,693.0,23.49...</td><td>[3.60000360000359...</td><td>[18.9451642201814...</td><td>[0.94725821100907...</td><td>0.0</td></tr>\n",
       "<tr><td>47</td><td>145</td><td>57.38</td><td>1188805</td><td>0</td><td>[47.0,145.0,57.38...</td><td>[4.70000470000469...</td><td>[18.9451642201814...</td><td>[0.94725821100907...</td><td>0.0</td></tr>\n",
       "<tr><td>50</td><td>609</td><td>7.13</td><td>3997846</td><td>0</td><td>[50.0,609.0,7.13,...</td><td>[5.00000500000499...</td><td>[18.9451642201814...</td><td>[0.94725821100907...</td><td>0.0</td></tr>\n",
       "<tr><td>60</td><td>779</td><td>27.89</td><td>3482937</td><td>0</td><td>[60.0,779.0,27.89...</td><td>[6.00000600000599...</td><td>[18.9451642201814...</td><td>[0.94725821100907...</td><td>0.0</td></tr>\n",
       "<tr><td>60</td><td>940</td><td>29.52</td><td>3670884</td><td>0</td><td>[60.0,940.0,29.52...</td><td>[6.00000600000599...</td><td>[18.9451642201814...</td><td>[0.94725821100907...</td><td>0.0</td></tr>\n",
       "<tr><td>62</td><td>138</td><td>51.78</td><td>1250616</td><td>0</td><td>[62.0,138.0,51.78...</td><td>[6.20000620000619...</td><td>[18.9451642201814...</td><td>[0.94725821100907...</td><td>0.0</td></tr>\n",
       "<tr><td>62</td><td>174</td><td>37.44</td><td>4608998</td><td>0</td><td>[62.0,174.0,37.44...</td><td>[6.20000620000619...</td><td>[18.8820135576199...</td><td>[0.94410067788099...</td><td>0.0</td></tr>\n",
       "</table>\n",
       "only showing top 20 rows\n"
      ],
      "text/plain": [
       "+-----------+-----------+---------+---------------+--------+--------------------+--------------------+--------------------+--------------------+----------+\n",
       "|customer_id|terminal_id|tx_amount|tx_time_seconds|tx_fraud|            features|      scaledFeatures|       rawPrediction|         probability|prediction|\n",
       "+-----------+-----------+---------+---------------+--------+--------------------+--------------------+--------------------+--------------------+----------+\n",
       "|          0|        934|    97.76|        3092274|       0|[0.0,934.0,97.76,...|[0.0,1.0433644611...|[18.9451642201814...|[0.94725821100907...|       0.0|\n",
       "|          3|        205|     1.19|        3208915|       0|[3.0,205.0,1.19,3...|[3.00000300000299...|[18.9451642201814...|[0.94725821100907...|       0.0|\n",
       "|         12|        858|    77.16|        4649601|       0|[12.0,858.0,77.16...|[1.20000120000119...|[18.8820135576199...|[0.94410067788099...|       0.0|\n",
       "|         18|        515|    99.54|        2523051|       0|[18.0,515.0,99.54...|[1.80000180000179...|[18.9451642201814...|[0.94725821100907...|       0.0|\n",
       "|         19|        214|     54.2|        3037802|       0|[19.0,214.0,54.2,...|[1.90000190000189...|[18.9451642201814...|[0.94725821100907...|       0.0|\n",
       "|         20|        413|    80.34|        1055396|       0|[20.0,413.0,80.34...|[2.00000200000199...|[18.9451642201814...|[0.94725821100907...|       0.0|\n",
       "|         21|        401|    99.85|        5153808|       0|[21.0,401.0,99.85...|[2.1000021000021E...|[18.9023051453165...|[0.94511525726582...|       0.0|\n",
       "|         24|        943|   104.01|        4563025|       1|[24.0,943.0,104.0...|[2.40000240000239...|[18.8996209511319...|[0.94498104755659...|       0.0|\n",
       "|         25|        564|    47.72|        1340442|       0|[25.0,564.0,47.72...|[2.50000250000249...|[18.9451642201814...|[0.94725821100907...|       0.0|\n",
       "|         25|        619|     5.34|         306767|       0|[25.0,619.0,5.34,...|[2.50000250000249...|[18.9451642201814...|[0.94725821100907...|       0.0|\n",
       "|         26|        619|    28.02|        1437154|       0|[26.0,619.0,28.02...|[2.60000260000259...|[18.9451642201814...|[0.94725821100907...|       0.0|\n",
       "|         31|        404|    13.36|        4623253|       0|[31.0,404.0,13.36...|[3.10000310000309...|[18.8820135576199...|[0.94410067788099...|       0.0|\n",
       "|         35|        267|    53.96|        1504992|       0|[35.0,267.0,53.96...|[3.5000035000035E...|[18.9451642201814...|[0.94725821100907...|       0.0|\n",
       "|         36|        693|    23.49|         157709|       0|[36.0,693.0,23.49...|[3.60000360000359...|[18.9451642201814...|[0.94725821100907...|       0.0|\n",
       "|         47|        145|    57.38|        1188805|       0|[47.0,145.0,57.38...|[4.70000470000469...|[18.9451642201814...|[0.94725821100907...|       0.0|\n",
       "|         50|        609|     7.13|        3997846|       0|[50.0,609.0,7.13,...|[5.00000500000499...|[18.9451642201814...|[0.94725821100907...|       0.0|\n",
       "|         60|        779|    27.89|        3482937|       0|[60.0,779.0,27.89...|[6.00000600000599...|[18.9451642201814...|[0.94725821100907...|       0.0|\n",
       "|         60|        940|    29.52|        3670884|       0|[60.0,940.0,29.52...|[6.00000600000599...|[18.9451642201814...|[0.94725821100907...|       0.0|\n",
       "|         62|        138|    51.78|        1250616|       0|[62.0,138.0,51.78...|[6.20000620000619...|[18.9451642201814...|[0.94725821100907...|       0.0|\n",
       "|         62|        174|    37.44|        4608998|       0|[62.0,174.0,37.44...|[6.20000620000619...|[18.8820135576199...|[0.94410067788099...|       0.0|\n",
       "+-----------+-----------+---------+---------------+--------+--------------------+--------------------+--------------------+--------------------+----------+\n",
       "only showing top 20 rows"
      ]
     },
     "execution_count": 213,
     "metadata": {},
     "output_type": "execute_result"
    }
   ],
   "source": [
    "predictions"
   ]
  },
  {
   "cell_type": "code",
   "execution_count": null,
   "id": "b086e878",
   "metadata": {},
   "outputs": [],
   "source": [
    "# ПРОВЕРИТЬ ТАК\n",
    "# from pyspark.ml.tuning import ParamGridBuilder, TrainValidationSplit\n",
    "\n",
    "# paramGrid = ParamGridBuilder()\\\n",
    "#     .addGrid(lr.regParam, [0.01, 0.1, 0.5])\\\n",
    "#     .addGrid(lr.fitIntercept, [False, True])\\\n",
    "#     .addGrid(lr.elasticNetParam, [0.0, 0.5, 1.0])\\\n",
    "#     .build()\n",
    "\n",
    "# trainValidationSplit = TrainValidationSplit()\\\n",
    "#     .setEstimator(lr)\\\n",
    "#     .setEvaluator(evaluator)\\\n",
    "#     .setEstimatorParamMaps(paramGrid)\\\n",
    "#     .setTrainRatio(0.7)\\\n",
    "#     .setParallelism(2)\n",
    "\n",
    "# model = trainValidationSplit.fit(dataF)\n",
    "\n",
    "# param_map = model.bestModel.extractParamMap()\n",
    "# for i in param_map:\n",
    "#     print(f\"{i.name:<16}\\t{param_map[i]}\")"
   ]
  },
  {
   "cell_type": "code",
   "execution_count": 100,
   "id": "751e2c1f",
   "metadata": {},
   "outputs": [
    {
     "ename": "ValueError",
     "evalue": "Expected array-like (array or non-string sequence), got +--------+\n|tx_fraud|\n+--------+\n|       0|\n|       0|\n|       0|\n|       0|\n|       0|\n|       0|\n|       0|\n|       0|\n|       0|\n|       0|\n|       0|\n|       0|\n|       0|\n|       0|\n|       0|\n|       0|\n|       0|\n|       0|\n|       0|\n|       0|\n+--------+\nonly showing top 20 rows\n",
     "output_type": "error",
     "traceback": [
      "\u001b[0;31m---------------------------------------------------------------------------\u001b[0m",
      "\u001b[0;31mValueError\u001b[0m                                Traceback (most recent call last)",
      "\u001b[0;32m<ipython-input-100-d5cc980d2091>\u001b[0m in \u001b[0;36m<module>\u001b[0;34m\u001b[0m\n\u001b[1;32m     23\u001b[0m         )\n\u001b[1;32m     24\u001b[0m \u001b[0;34m\u001b[0m\u001b[0m\n\u001b[0;32m---> 25\u001b[0;31m         \u001b[0msearch\u001b[0m\u001b[0;34m.\u001b[0m\u001b[0mfit\u001b[0m\u001b[0;34m(\u001b[0m\u001b[0mtraining\u001b[0m\u001b[0;34m.\u001b[0m\u001b[0mselect\u001b[0m\u001b[0;34m(\u001b[0m\u001b[0;34m\"scaledFeatures\"\u001b[0m\u001b[0;34m)\u001b[0m\u001b[0;34m,\u001b[0m \u001b[0mtraining\u001b[0m\u001b[0;34m.\u001b[0m\u001b[0mselect\u001b[0m\u001b[0;34m(\u001b[0m\u001b[0;34m\"tx_fraud\"\u001b[0m\u001b[0;34m)\u001b[0m\u001b[0;34m)\u001b[0m\u001b[0;34m\u001b[0m\u001b[0;34m\u001b[0m\u001b[0m\n\u001b[0m\u001b[1;32m     26\u001b[0m \u001b[0;34m\u001b[0m\u001b[0m\n\u001b[1;32m     27\u001b[0m     \u001b[0mbest\u001b[0m \u001b[0;34m=\u001b[0m \u001b[0msearch\u001b[0m\u001b[0;34m.\u001b[0m\u001b[0mbest_params_\u001b[0m\u001b[0;34m\u001b[0m\u001b[0;34m\u001b[0m\u001b[0m\n",
      "\u001b[0;32m/opt/conda/lib/python3.8/site-packages/sklearn/utils/validation.py\u001b[0m in \u001b[0;36minner_f\u001b[0;34m(*args, **kwargs)\u001b[0m\n\u001b[1;32m     70\u001b[0m                           FutureWarning)\n\u001b[1;32m     71\u001b[0m         \u001b[0mkwargs\u001b[0m\u001b[0;34m.\u001b[0m\u001b[0mupdate\u001b[0m\u001b[0;34m(\u001b[0m\u001b[0;34m{\u001b[0m\u001b[0mk\u001b[0m\u001b[0;34m:\u001b[0m \u001b[0marg\u001b[0m \u001b[0;32mfor\u001b[0m \u001b[0mk\u001b[0m\u001b[0;34m,\u001b[0m \u001b[0marg\u001b[0m \u001b[0;32min\u001b[0m \u001b[0mzip\u001b[0m\u001b[0;34m(\u001b[0m\u001b[0msig\u001b[0m\u001b[0;34m.\u001b[0m\u001b[0mparameters\u001b[0m\u001b[0;34m,\u001b[0m \u001b[0margs\u001b[0m\u001b[0;34m)\u001b[0m\u001b[0;34m}\u001b[0m\u001b[0;34m)\u001b[0m\u001b[0;34m\u001b[0m\u001b[0;34m\u001b[0m\u001b[0m\n\u001b[0;32m---> 72\u001b[0;31m         \u001b[0;32mreturn\u001b[0m \u001b[0mf\u001b[0m\u001b[0;34m(\u001b[0m\u001b[0;34m**\u001b[0m\u001b[0mkwargs\u001b[0m\u001b[0;34m)\u001b[0m\u001b[0;34m\u001b[0m\u001b[0;34m\u001b[0m\u001b[0m\n\u001b[0m\u001b[1;32m     73\u001b[0m     \u001b[0;32mreturn\u001b[0m \u001b[0minner_f\u001b[0m\u001b[0;34m\u001b[0m\u001b[0;34m\u001b[0m\u001b[0m\n\u001b[1;32m     74\u001b[0m \u001b[0;34m\u001b[0m\u001b[0m\n",
      "\u001b[0;32m/opt/conda/lib/python3.8/site-packages/sklearn/model_selection/_search.py\u001b[0m in \u001b[0;36mfit\u001b[0;34m(self, X, y, groups, **fit_params)\u001b[0m\n\u001b[1;32m    650\u001b[0m         \"\"\"\n\u001b[1;32m    651\u001b[0m         \u001b[0mestimator\u001b[0m \u001b[0;34m=\u001b[0m \u001b[0mself\u001b[0m\u001b[0;34m.\u001b[0m\u001b[0mestimator\u001b[0m\u001b[0;34m\u001b[0m\u001b[0;34m\u001b[0m\u001b[0m\n\u001b[0;32m--> 652\u001b[0;31m         \u001b[0mcv\u001b[0m \u001b[0;34m=\u001b[0m \u001b[0mcheck_cv\u001b[0m\u001b[0;34m(\u001b[0m\u001b[0mself\u001b[0m\u001b[0;34m.\u001b[0m\u001b[0mcv\u001b[0m\u001b[0;34m,\u001b[0m \u001b[0my\u001b[0m\u001b[0;34m,\u001b[0m \u001b[0mclassifier\u001b[0m\u001b[0;34m=\u001b[0m\u001b[0mis_classifier\u001b[0m\u001b[0;34m(\u001b[0m\u001b[0mestimator\u001b[0m\u001b[0;34m)\u001b[0m\u001b[0;34m)\u001b[0m\u001b[0;34m\u001b[0m\u001b[0;34m\u001b[0m\u001b[0m\n\u001b[0m\u001b[1;32m    653\u001b[0m \u001b[0;34m\u001b[0m\u001b[0m\n\u001b[1;32m    654\u001b[0m         scorers, self.multimetric_ = _check_multimetric_scoring(\n",
      "\u001b[0;32m/opt/conda/lib/python3.8/site-packages/sklearn/utils/validation.py\u001b[0m in \u001b[0;36minner_f\u001b[0;34m(*args, **kwargs)\u001b[0m\n\u001b[1;32m     70\u001b[0m                           FutureWarning)\n\u001b[1;32m     71\u001b[0m         \u001b[0mkwargs\u001b[0m\u001b[0;34m.\u001b[0m\u001b[0mupdate\u001b[0m\u001b[0;34m(\u001b[0m\u001b[0;34m{\u001b[0m\u001b[0mk\u001b[0m\u001b[0;34m:\u001b[0m \u001b[0marg\u001b[0m \u001b[0;32mfor\u001b[0m \u001b[0mk\u001b[0m\u001b[0;34m,\u001b[0m \u001b[0marg\u001b[0m \u001b[0;32min\u001b[0m \u001b[0mzip\u001b[0m\u001b[0;34m(\u001b[0m\u001b[0msig\u001b[0m\u001b[0;34m.\u001b[0m\u001b[0mparameters\u001b[0m\u001b[0;34m,\u001b[0m \u001b[0margs\u001b[0m\u001b[0;34m)\u001b[0m\u001b[0;34m}\u001b[0m\u001b[0;34m)\u001b[0m\u001b[0;34m\u001b[0m\u001b[0;34m\u001b[0m\u001b[0m\n\u001b[0;32m---> 72\u001b[0;31m         \u001b[0;32mreturn\u001b[0m \u001b[0mf\u001b[0m\u001b[0;34m(\u001b[0m\u001b[0;34m**\u001b[0m\u001b[0mkwargs\u001b[0m\u001b[0;34m)\u001b[0m\u001b[0;34m\u001b[0m\u001b[0;34m\u001b[0m\u001b[0m\n\u001b[0m\u001b[1;32m     73\u001b[0m     \u001b[0;32mreturn\u001b[0m \u001b[0minner_f\u001b[0m\u001b[0;34m\u001b[0m\u001b[0;34m\u001b[0m\u001b[0m\n\u001b[1;32m     74\u001b[0m \u001b[0;34m\u001b[0m\u001b[0m\n",
      "\u001b[0;32m/opt/conda/lib/python3.8/site-packages/sklearn/model_selection/_split.py\u001b[0m in \u001b[0;36mcheck_cv\u001b[0;34m(cv, y, classifier)\u001b[0m\n\u001b[1;32m   2012\u001b[0m     \u001b[0;32mif\u001b[0m \u001b[0misinstance\u001b[0m\u001b[0;34m(\u001b[0m\u001b[0mcv\u001b[0m\u001b[0;34m,\u001b[0m \u001b[0mnumbers\u001b[0m\u001b[0;34m.\u001b[0m\u001b[0mIntegral\u001b[0m\u001b[0;34m)\u001b[0m\u001b[0;34m:\u001b[0m\u001b[0;34m\u001b[0m\u001b[0;34m\u001b[0m\u001b[0m\n\u001b[1;32m   2013\u001b[0m         if (classifier and (y is not None) and\n\u001b[0;32m-> 2014\u001b[0;31m                 (type_of_target(y) in ('binary', 'multiclass'))):\n\u001b[0m\u001b[1;32m   2015\u001b[0m             \u001b[0;32mreturn\u001b[0m \u001b[0mStratifiedKFold\u001b[0m\u001b[0;34m(\u001b[0m\u001b[0mcv\u001b[0m\u001b[0;34m)\u001b[0m\u001b[0;34m\u001b[0m\u001b[0;34m\u001b[0m\u001b[0m\n\u001b[1;32m   2016\u001b[0m         \u001b[0;32melse\u001b[0m\u001b[0;34m:\u001b[0m\u001b[0;34m\u001b[0m\u001b[0;34m\u001b[0m\u001b[0m\n",
      "\u001b[0;32m/opt/conda/lib/python3.8/site-packages/sklearn/utils/multiclass.py\u001b[0m in \u001b[0;36mtype_of_target\u001b[0;34m(y)\u001b[0m\n\u001b[1;32m    241\u001b[0m \u001b[0;34m\u001b[0m\u001b[0m\n\u001b[1;32m    242\u001b[0m     \u001b[0;32mif\u001b[0m \u001b[0;32mnot\u001b[0m \u001b[0mvalid\u001b[0m\u001b[0;34m:\u001b[0m\u001b[0;34m\u001b[0m\u001b[0;34m\u001b[0m\u001b[0m\n\u001b[0;32m--> 243\u001b[0;31m         raise ValueError('Expected array-like (array or non-string sequence), '\n\u001b[0m\u001b[1;32m    244\u001b[0m                          'got %r' % y)\n\u001b[1;32m    245\u001b[0m \u001b[0;34m\u001b[0m\u001b[0m\n",
      "\u001b[0;31mValueError\u001b[0m: Expected array-like (array or non-string sequence), got +--------+\n|tx_fraud|\n+--------+\n|       0|\n|       0|\n|       0|\n|       0|\n|       0|\n|       0|\n|       0|\n|       0|\n|       0|\n|       0|\n|       0|\n|       0|\n|       0|\n|       0|\n|       0|\n|       0|\n|       0|\n|       0|\n|       0|\n|       0|\n+--------+\nonly showing top 20 rows\n"
     ]
    }
   ],
   "source": [
    "# run_name = 'RF_CVjoblibspark'\n",
    "\n",
    "\n",
    "    \n",
    "# with mlflow.start_run(run_name=run_name, experiment_id=experiment.experiment_id):\n",
    "#     mlflow.log_param('features', FEATURES)\n",
    "    \n",
    "#     space = {\n",
    "#     \"n_estimators\": [100, 200, 300],\n",
    "#     \"max_depth\": range(2, 7),\n",
    "#     \"criterion\":[\"gini\", \"entropy\"],\n",
    "#     }\n",
    "#     mlflow.log_param('param_grid', space)\n",
    "    \n",
    "# #     model = rf.fit(training)\n",
    "    \n",
    "#     parallelism = 4\n",
    "#     with parallel_backend(\"spark\", n_jobs=parallelism):\n",
    "#         search = RandomizedSearchCV(\n",
    "#             estimator=rfsc,\n",
    "#             param_distributions=space,\n",
    "#             n_iter=40,\n",
    "#             cv=2,\n",
    "#             verbose=2\n",
    "#         )\n",
    "\n",
    "#         search.fit(training.select(\"scaledFeatures\"), training.select(\"tx_fraud\"))\n",
    "    \n",
    "#     best = search.best_params_\n",
    "#     best_CV_Score = search.best_score_\n",
    "    \n",
    "#     mlflow.log_param('best_params', best)\n",
    "#     mlflow.log_metric(\"best_CV_Score\", best_CV_Score)\n",
    "    \n",
    "    \n",
    "    \n",
    "#     predictions = model.transform(test)\n",
    "#     areaUnderPR = evaluator1.evaluate(predictions)\n",
    "    \n",
    "#     mlflow.log_metric(\"F1\", F1)\n",
    "#     mlflow.spark.save_model(model, \"random_forest\")\n",
    "\n",
    "#     mlflow.spark.log_model(model, \"random_forest\")\n",
    "\n",
    "\n",
    "\n"
   ]
  },
  {
   "cell_type": "markdown",
   "id": "aecb3019",
   "metadata": {},
   "source": [
    "### вторая модель"
   ]
  },
  {
   "cell_type": "code",
   "execution_count": 31,
   "id": "cc37a425",
   "metadata": {},
   "outputs": [],
   "source": [
    "from pyspark.ml.classification import GBTClassifier"
   ]
  },
  {
   "cell_type": "code",
   "execution_count": 47,
   "id": "ec3d8eea",
   "metadata": {},
   "outputs": [],
   "source": [
    "gbt = GBTClassifier(labelCol=\"tx_fraud\", featuresCol=\"features\", maxIter=10)"
   ]
  },
  {
   "cell_type": "code",
   "execution_count": 48,
   "id": "c73cdc34",
   "metadata": {},
   "outputs": [],
   "source": [
    "run_name = 'Gradient-boosted'\n",
    "\n",
    "with mlflow.start_run(run_name=run_name, experiment_id=experiment.experiment_id):\n",
    "    mlflow.log_param('features', FEATURES)\n",
    "    mlflow.log_param('maxIter', 10)\n",
    "    \n",
    "    model = gbt.fit(training)\n",
    "    \n",
    "    evaluator1 = BinaryClassificationEvaluator(metricName='areaUnderPR', labelCol='tx_fraud')\n",
    "    evaluator2 = MulticlassClassificationEvaluator(metricName='fMeasureByLabel', \n",
    "                                              metricLabel=1, beta=1.0, labelCol='tx_fraud')\n",
    "    predictions = model.transform(test)\n",
    "    areaUnderPR = evaluator1.evaluate(predictions)\n",
    "    F1 = evaluator2.evaluate(predictions)\n",
    "    \n",
    "    mlflow.log_metric(\"F1\", F1)\n",
    "    mlflow.log_metric(\"areaUnderPR\", areaUnderPR)\n",
    "    mlflow.spark.save_model(model, \"GBTClassifier\")\n",
    "\n",
    "    mlflow.spark.log_model(model, \"GBTClassifier1\")"
   ]
  },
  {
   "cell_type": "code",
   "execution_count": 49,
   "id": "9bd61c3c",
   "metadata": {},
   "outputs": [
    {
     "data": {
      "text/plain": [
       "0.13558586390038654"
      ]
     },
     "execution_count": 49,
     "metadata": {},
     "output_type": "execute_result"
    }
   ],
   "source": [
    "areaUnderPR"
   ]
  },
  {
   "cell_type": "code",
   "execution_count": 58,
   "id": "b445a2a5",
   "metadata": {},
   "outputs": [
    {
     "data": {
      "text/plain": [
       "0.0"
      ]
     },
     "execution_count": 58,
     "metadata": {},
     "output_type": "execute_result"
    }
   ],
   "source": [
    "F1"
   ]
  },
  {
   "cell_type": "code",
   "execution_count": 54,
   "id": "f18496c8",
   "metadata": {},
   "outputs": [
    {
     "data": {
      "text/plain": [
       "SparseVector(4, {0: 0.0, 1: 0.6656, 2: 0.0, 3: 0.3343})"
      ]
     },
     "execution_count": 54,
     "metadata": {},
     "output_type": "execute_result"
    }
   ],
   "source": [
    "model.featureImportances"
   ]
  },
  {
   "cell_type": "code",
   "execution_count": null,
   "id": "5145c030",
   "metadata": {},
   "outputs": [],
   "source": [
    "evaluator.evaluate"
   ]
  },
  {
   "cell_type": "code",
   "execution_count": null,
   "id": "edcc473d",
   "metadata": {},
   "outputs": [],
   "source": []
  }
 ],
 "metadata": {
  "kernelspec": {
   "display_name": "Python 3 (ipykernel)",
   "language": "python",
   "name": "python3"
  },
  "language_info": {
   "codemirror_mode": {
    "name": "ipython",
    "version": 3
   },
   "file_extension": ".py",
   "mimetype": "text/x-python",
   "name": "python",
   "nbconvert_exporter": "python",
   "pygments_lexer": "ipython3",
   "version": "3.8.15"
  }
 },
 "nbformat": 4,
 "nbformat_minor": 5
}
