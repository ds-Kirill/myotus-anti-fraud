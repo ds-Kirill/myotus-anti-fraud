{
 "cells": [
  {
   "cell_type": "code",
   "execution_count": 18,
   "id": "85ce7751",
   "metadata": {},
   "outputs": [],
   "source": [
    "import findspark\n",
    "findspark.init()\n",
    "\n",
    "import pyspark\n",
    "import logging\n",
    "from pyspark.sql import SparkSession\n",
    "from pyspark.sql.functions import col\n",
    "from pyspark.sql import functions as F\n",
    "\n",
    "from pyspark.ml import Pipeline\n",
    "from pyspark.ml import PipelineModel\n",
    "from pyspark.ml.feature import VectorAssembler\n",
    "from pyspark import SparkConf, SparkContext\n",
    "from pyspark.ml.classification import RandomForestClassifier\n",
    "from pyspark.ml.classification import DecisionTreeClassifier\n",
    "from pyspark.ml.evaluation import BinaryClassificationEvaluator\n"
   ]
  },
  {
   "cell_type": "markdown",
   "id": "c5fae07e",
   "metadata": {},
   "source": [
    "## Задача валидации моделей и провести АВ тест для сравнения двух моделей\n",
    "Для валидации я использовал метрику F1, изначально отбирал модели котрые находили хоть одну мошенническую транзакцию, большинство ни нашли ни одной(\n",
    "Я взял одну тестовую выборку о транзакциях и применил к ней 2 модели, потом сравнил\n",
    "\n",
    "Н0: модели дают одинаковый результат"
   ]
  },
  {
   "cell_type": "code",
   "execution_count": 35,
   "id": "15333a96",
   "metadata": {},
   "outputs": [],
   "source": [
    "def f1_score(predictions):\n",
    "    '''Подсчёто метрики F1 для предсказаний модели\n",
    "       на вохд предсказания с колонками tx_fraud - лейблы, prediction - ответы модели\n",
    "    '''\n",
    "    tp = predictions.filter((F.col(\"tx_fraud\") == 1) & (F.col(\"prediction\") == 1)).count()\n",
    "    tn = predictions.filter((F.col(\"tx_fraud\") == 0) & (F.col(\"prediction\") == 0)).count()\n",
    "    fp = predictions.filter((F.col(\"tx_fraud\") == 0) & (F.col(\"prediction\") == 1)).count()\n",
    "    fn = predictions.filter((F.col(\"tx_fraud\") == 1) & (F.col(\"prediction\") == 0)).count()\n",
    "    \n",
    "    prec = tp/(tp+fp)\n",
    "    rec = tp/(tp+fn)\n",
    "    f1 = 2*(prec*rec)/(prec+rec)\n",
    "    return f1"
   ]
  },
  {
   "cell_type": "code",
   "execution_count": 19,
   "id": "dc208b60",
   "metadata": {},
   "outputs": [],
   "source": [
    "spark = (\n",
    "    SparkSession\n",
    "    .builder\n",
    "    .appName(\"antiFraud\")\n",
    "    .config(\"spark.ui.port\", \"4040\")\n",
    "    .getOrCreate()\n",
    ")"
   ]
  },
  {
   "cell_type": "code",
   "execution_count": 39,
   "id": "d487a61f",
   "metadata": {},
   "outputs": [],
   "source": [
    "spark.conf.set('spark.sql.repl.eagerEval.enabled', True)"
   ]
  },
  {
   "cell_type": "code",
   "execution_count": 31,
   "id": "603bc104",
   "metadata": {},
   "outputs": [],
   "source": [
    "df = spark.read.parquet(\"/user/data_clean/df.parquet\").fillna(0)"
   ]
  },
  {
   "cell_type": "markdown",
   "id": "230378b4",
   "metadata": {},
   "source": [
    "### У меня есть 2 модели:  \n",
    "    А - DecisionTreeClassifier взял базовые параметры sparkML  \n",
    "    B - DecisionTreeClassifier изменил параметр maxDepth = 7"
   ]
  },
  {
   "cell_type": "code",
   "execution_count": 29,
   "id": "1cb3c7e5",
   "metadata": {},
   "outputs": [],
   "source": [
    "modelA = PipelineModel.load(\"/user/models/tree/sparkml\") #/user/models/tree_md7/sparkml\n",
    "modelB = PipelineModel.load(\"/user/models/tree_md7/sparkml\")"
   ]
  },
  {
   "cell_type": "markdown",
   "id": "7de78a4f",
   "metadata": {},
   "source": [
    "Мне тут нужны только тестовые данные, разбил с рандомсидом как при обучении моделей"
   ]
  },
  {
   "cell_type": "code",
   "execution_count": 32,
   "id": "b6a90b6a",
   "metadata": {},
   "outputs": [],
   "source": [
    "splits = df.randomSplit([0.9, 0.1], 42)\n",
    "training = splits[0]\n",
    "test = splits[1]"
   ]
  },
  {
   "cell_type": "code",
   "execution_count": null,
   "id": "837d2ce9",
   "metadata": {},
   "outputs": [],
   "source": [
    "# splitGroups = test.randomSplit([0.5, 0.5], 42)\n",
    "# groupA = splitGroups[0]\n",
    "# groupB = splitGroups[1]"
   ]
  },
  {
   "cell_type": "markdown",
   "id": "10948329",
   "metadata": {},
   "source": [
    "### Предсказания каждой модели на одних и тех же данных, которые они не видели на обчуении"
   ]
  },
  {
   "cell_type": "code",
   "execution_count": 44,
   "id": "f2ecbe21",
   "metadata": {},
   "outputs": [],
   "source": [
    "predictionsA = modelA.transform(test).select(\"transaction_id\", \"tx_fraud\", \"prediction\")"
   ]
  },
  {
   "cell_type": "code",
   "execution_count": 45,
   "id": "fd70ef9d",
   "metadata": {},
   "outputs": [],
   "source": [
    "predictionsB = modelB.transform(test).select(\"transaction_id\", \"tx_fraud\", \"prediction\")"
   ]
  },
  {
   "cell_type": "code",
   "execution_count": 46,
   "id": "c72bad9b",
   "metadata": {},
   "outputs": [
    {
     "data": {
      "text/html": [
       "<table border='1'>\n",
       "<tr><th>transaction_id</th><th>tx_fraud</th><th>prediction</th></tr>\n",
       "<tr><td>1413</td><td>0</td><td>0.0</td></tr>\n",
       "<tr><td>1670</td><td>0</td><td>0.0</td></tr>\n",
       "<tr><td>11253</td><td>0</td><td>0.0</td></tr>\n",
       "<tr><td>13904</td><td>0</td><td>0.0</td></tr>\n",
       "<tr><td>18554</td><td>0</td><td>0.0</td></tr>\n",
       "<tr><td>23071</td><td>0</td><td>0.0</td></tr>\n",
       "<tr><td>26312</td><td>0</td><td>0.0</td></tr>\n",
       "<tr><td>26524</td><td>0</td><td>0.0</td></tr>\n",
       "<tr><td>30497</td><td>1</td><td>0.0</td></tr>\n",
       "<tr><td>38213</td><td>0</td><td>0.0</td></tr>\n",
       "<tr><td>40454</td><td>0</td><td>0.0</td></tr>\n",
       "<tr><td>43967</td><td>0</td><td>0.0</td></tr>\n",
       "<tr><td>45004</td><td>0</td><td>0.0</td></tr>\n",
       "<tr><td>47019</td><td>0</td><td>0.0</td></tr>\n",
       "<tr><td>51166</td><td>0</td><td>0.0</td></tr>\n",
       "<tr><td>52020</td><td>0</td><td>0.0</td></tr>\n",
       "<tr><td>54407</td><td>0</td><td>0.0</td></tr>\n",
       "<tr><td>57933</td><td>0</td><td>0.0</td></tr>\n",
       "<tr><td>58352</td><td>0</td><td>0.0</td></tr>\n",
       "<tr><td>59346</td><td>0</td><td>0.0</td></tr>\n",
       "</table>\n",
       "only showing top 20 rows\n"
      ],
      "text/plain": [
       "+--------------+--------+----------+\n",
       "|transaction_id|tx_fraud|prediction|\n",
       "+--------------+--------+----------+\n",
       "|          1413|       0|       0.0|\n",
       "|          1670|       0|       0.0|\n",
       "|         11253|       0|       0.0|\n",
       "|         13904|       0|       0.0|\n",
       "|         18554|       0|       0.0|\n",
       "|         23071|       0|       0.0|\n",
       "|         26312|       0|       0.0|\n",
       "|         26524|       0|       0.0|\n",
       "|         30497|       1|       0.0|\n",
       "|         38213|       0|       0.0|\n",
       "|         40454|       0|       0.0|\n",
       "|         43967|       0|       0.0|\n",
       "|         45004|       0|       0.0|\n",
       "|         47019|       0|       0.0|\n",
       "|         51166|       0|       0.0|\n",
       "|         52020|       0|       0.0|\n",
       "|         54407|       0|       0.0|\n",
       "|         57933|       0|       0.0|\n",
       "|         58352|       0|       0.0|\n",
       "|         59346|       0|       0.0|\n",
       "+--------------+--------+----------+\n",
       "only showing top 20 rows"
      ]
     },
     "execution_count": 46,
     "metadata": {},
     "output_type": "execute_result"
    }
   ],
   "source": [
    "predictionsA"
   ]
  },
  {
   "cell_type": "code",
   "execution_count": 47,
   "id": "7e01acdd",
   "metadata": {},
   "outputs": [
    {
     "data": {
      "text/plain": [
       "289437"
      ]
     },
     "execution_count": 47,
     "metadata": {},
     "output_type": "execute_result"
    }
   ],
   "source": [
    "predictionsA.select('prediction').filter((col(\"prediction\") == 1)).count()"
   ]
  },
  {
   "cell_type": "code",
   "execution_count": 48,
   "id": "67312305",
   "metadata": {},
   "outputs": [
    {
     "data": {
      "text/plain": [
       "725570"
      ]
     },
     "execution_count": 48,
     "metadata": {},
     "output_type": "execute_result"
    }
   ],
   "source": [
    "predictionsB.select('prediction').filter((col(\"prediction\") == 1)).count()"
   ]
  },
  {
   "cell_type": "code",
   "execution_count": 55,
   "id": "d7893af5",
   "metadata": {},
   "outputs": [],
   "source": [
    "import numpy as np\n",
    "from scipy.stats import mannwhitneyu"
   ]
  },
  {
   "cell_type": "markdown",
   "id": "4dc2efc4",
   "metadata": {},
   "source": [
    "Теперь я хочу получить распределения метрики F1 для каждой модели с помощью бутсрапа  "
   ]
  },
  {
   "cell_type": "code",
   "execution_count": 53,
   "id": "5e10ced3",
   "metadata": {},
   "outputs": [],
   "source": [
    "bootstrap_size = 50 # взял всего 50, число никак не рассчитывал, просто чтобы не ждать пол века\n",
    "sample_size = 0.8 # где-то вычитал что 0.8 вроде норм"
   ]
  },
  {
   "cell_type": "code",
   "execution_count": 54,
   "id": "3091a077",
   "metadata": {},
   "outputs": [],
   "source": [
    "f1A = []\n",
    "f1B = []"
   ]
  },
  {
   "cell_type": "code",
   "execution_count": 117,
   "id": "f6b631e8",
   "metadata": {},
   "outputs": [],
   "source": [
    "for i in range(bootstrap_size):\n",
    "    sampleA = predictionsA.sample(withReplacement=True, fraction=sample_size)\n",
    "    f1A.append(f1_score(sampleA))\n",
    "    \n",
    "    sampleB = predictionsB.sample(withReplacement=True, fraction=sample_size)\n",
    "    f1B.append(f1_score(sampleB))"
   ]
  },
  {
   "cell_type": "markdown",
   "id": "dda3705a",
   "metadata": {},
   "source": [
    "Все 50 выборок я не дождался, пришлось бы ещё раз пополнять баланс "
   ]
  },
  {
   "cell_type": "code",
   "execution_count": 116,
   "id": "c66e69c7",
   "metadata": {},
   "outputs": [
    {
     "data": {
      "text/plain": [
       "28"
      ]
     },
     "execution_count": 116,
     "metadata": {},
     "output_type": "execute_result"
    }
   ],
   "source": [
    "len(f1A)"
   ]
  },
  {
   "cell_type": "code",
   "execution_count": 112,
   "id": "fdf30afa",
   "metadata": {},
   "outputs": [],
   "source": [
    "import matplotlib.pyplot as plt\n",
    "import seaborn as sns"
   ]
  },
  {
   "cell_type": "code",
   "execution_count": 58,
   "id": "8d7cb703",
   "metadata": {},
   "outputs": [],
   "source": [
    "f1A = np.array(f1A)\n",
    "f1B = np.array(f1B)"
   ]
  },
  {
   "cell_type": "markdown",
   "id": "0329f9a8",
   "metadata": {},
   "source": [
    "Посчитал интервалы 3сигма для полученных распределений"
   ]
  },
  {
   "cell_type": "code",
   "execution_count": 64,
   "id": "7746e4bd",
   "metadata": {},
   "outputs": [
    {
     "name": "stdout",
     "output_type": "stream",
     "text": [
      "Модель А. среднее: 0.02723033153664984, интервал: 0.026907453494336542, 0.027553209578963136\n",
      "Модель B. среднее: 0.0887563952026148, интервал: 0.08840073379434292, 0.08911205661088668\n"
     ]
    }
   ],
   "source": [
    "print(f\"Модель А. среднее: {f1A.mean()}, интервал: {f1A.mean() - 3*f1A.std()}, {f1A.mean() + 3*f1A.std()}\")\n",
    "print(f\"Модель B. среднее: {f1B.mean()}, интервал: {f1B.mean() - 3*f1B.std()}, {f1B.mean() + 3*f1B.std()}\")"
   ]
  },
  {
   "cell_type": "markdown",
   "id": "b3f30919",
   "metadata": {},
   "source": [
    "Интервал не перекрывается, вероятно вторая модель лучше  \n",
    "это также видно на кривом, убогом рисунке ниже"
   ]
  },
  {
   "cell_type": "code",
   "execution_count": 107,
   "id": "8dd7e941",
   "metadata": {},
   "outputs": [
    {
     "data": {
      "image/png": "[encoded data removed]",
      "text/plain": [
       "<Figure size 1080x720 with 1 Axes>"
      ]
     },
     "metadata": {
      "needs_background": "light"
     },
     "output_type": "display_data"
    }
   ],
   "source": [
    "bins = 3\n",
    "plt.figure(figsize=(15, 10))\n",
    "plt.hist(f1A, bins=bins, alpha=0.7, edgecolor='black')\n",
    "plt.hist(f1B, bins=bins, alpha=0.7, edgecolor='blue')\n",
    "plt.show()"
   ]
  },
  {
   "cell_type": "markdown",
   "id": "acd6b1d0",
   "metadata": {},
   "source": [
    "### Критерий Манна-Уитни"
   ]
  },
  {
   "cell_type": "code",
   "execution_count": 63,
   "id": "3d9a8cef",
   "metadata": {},
   "outputs": [
    {
     "name": "stdout",
     "output_type": "stream",
     "text": [
      "Statistics=0.000, p=0.000\n",
      "Разные распределения (отвергаем H0)\n"
     ]
    }
   ],
   "source": [
    "from scipy.stats import mannwhitneyu # Импортируем нужный тест из пакета scipy\n",
    "\n",
    "# Сравнение групп\n",
    "stat, p = mannwhitneyu(f1A, f1B) # U-тест Манна-Уитни\n",
    "print('Statistics=%.3f, p=%.3f' % (stat, p))\n",
    "\n",
    "\n",
    "# Интерпретируем\n",
    "alpha = 0.05   # Уровень значимости\n",
    "if p > alpha:\n",
    "    print('Одинаковые распределения (не отвергаем H0)')\n",
    "else:\n",
    "    print('Разные распределения (отвергаем H0)')"
   ]
  },
  {
   "cell_type": "markdown",
   "id": "f86f6074",
   "metadata": {},
   "source": [
    "### Вывод\n",
    "Так как критерий показал что распределения отличаются, а интервавлы не пересекаются и у модели А он ниже,  \n",
    "<b>Можно предположить что вторая модель \"Дерево\" с maxDepth=7 лучше</b>"
   ]
  },
  {
   "cell_type": "code",
   "execution_count": null,
   "id": "9aa03e2e",
   "metadata": {},
   "outputs": [],
   "source": []
  },
  {
   "cell_type": "code",
   "execution_count": null,
   "id": "7d6ed322",
   "metadata": {},
   "outputs": [],
   "source": []
  }
 ],
 "metadata": {
  "kernelspec": {
   "display_name": "Python 3",
   "language": "python",
   "name": "python3"
  },
  "language_info": {
   "codemirror_mode": {
    "name": "ipython",
    "version": 3
   },
   "file_extension": ".py",
   "mimetype": "text/x-python",
   "name": "python",
   "nbconvert_exporter": "python",
   "pygments_lexer": "ipython3",
   "version": "3.8.10"
  }
 },
 "nbformat": 4,
 "nbformat_minor": 5
}
