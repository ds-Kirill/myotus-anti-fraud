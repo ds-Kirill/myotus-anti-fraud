{
 "cells": [
  {
   "cell_type": "code",
   "execution_count": 2,
   "id": "936f0bea",
   "metadata": {},
   "outputs": [
    {
     "data": {
      "text/plain": [
       "'/usr/lib/spark'"
      ]
     },
     "execution_count": 2,
     "metadata": {},
     "output_type": "execute_result"
    }
   ],
   "source": [
    "import findspark\n",
    "findspark.init()\n",
    "findspark.find()"
   ]
  },
  {
   "cell_type": "code",
   "execution_count": 3,
   "id": "9d01dc54",
   "metadata": {},
   "outputs": [],
   "source": [
    "import pyspark\n",
    "from pyspark.sql import SparkSession"
   ]
  },
  {
   "cell_type": "code",
   "execution_count": 4,
   "id": "7d943e3e",
   "metadata": {},
   "outputs": [],
   "source": [
    "from pyspark.sql.types import StructType, StructField, IntegerType, StringType, DoubleType"
   ]
  },
  {
   "cell_type": "code",
   "execution_count": 5,
   "id": "f1986c34",
   "metadata": {},
   "outputs": [],
   "source": [
    "from pyspark.sql.functions import col\n",
    "from pyspark.sql import functions as F"
   ]
  },
  {
   "cell_type": "markdown",
   "id": "5802bea2",
   "metadata": {},
   "source": [
    "#### Долго пытался разобраться с конфигурациями спарка и как сделать чтобы он бол мен быстро работал на таком объёме данных, но в итоге решил ничего не менять вообще"
   ]
  },
  {
   "cell_type": "code",
   "execution_count": 6,
   "id": "54d8052e",
   "metadata": {},
   "outputs": [],
   "source": [
    "spark = (\n",
    "    SparkSession\n",
    "        .builder\n",
    "        .appName(\"antiFraud\")\n",
    "        .config(\"spark.ui.port\", \"4040\")\n",
    "        .getOrCreate()\n",
    ")\n",
    "\n",
    "# spark = (\n",
    "#     SparkSession\n",
    "#         .builder\n",
    "#         .appName(\"antiFraud\")\n",
    "#         .config(\"spark.dynamicAllocation.enabled\", \"true\")\n",
    "#         .config(\"spark.dynamicAllocation.cachedExecutorIdleTimeout\", \"600\")\n",
    "#         .config(\"spark.executor.cores\", \"4\")\n",
    "#         .config(\"spark.executor.instances\", \"12\")\n",
    "#         .config(\"spark.executor.memory\", \"8g\")\n",
    "#         .config(\"spark.driver.memory\", \"16g\")\n",
    "#         .config(\"spark.default.parallelism\", \"12\")\n",
    "#         .config(\"spark.sql.shuffle.partitions\", \"12\")\n",
    "#         .config(\"spark.speculation\", \"true\")\n",
    "#         .config(\"spark.python.worker.reuse\", \"false\")\n",
    "#         .getOrCreate()\n",
    "# )\n",
    "\n",
    "# spark = (\n",
    "#     SparkSession\n",
    "#         .builder\n",
    "#         .appName(\"antiFraud\")\n",
    "#         .config(\"spark.dynamicAllocation.enabled\", \"true\")\n",
    "#         .config(\"spark.dynamicAllocation.minExecutors\", \"3\")\n",
    "#         .config(\"spark.executor.cores\", \"2\")\n",
    "#         .config(\"spark.executor.instances\", \"9\")\n",
    "# #         .config(\"spark.executor.memory\", \"4g\")\n",
    "# #         .config(\"spark.driver.memory\", \"4g\")\n",
    "#         .config(\"spark.ui.port\", \"4040\")\n",
    "#         .getOrCreate()\n",
    "# )\n",
    "\n",
    "# spark =( SparkSession\n",
    "#     .builder\n",
    "#     .appName(\"antiFraud\")\n",
    "#     .config(\"spark.executor.memory\", \"12g\")\n",
    "#     .config(\"spark.executor.cores\", \"4\")\n",
    "#     .config(\"spark.executor.instances\", \"6\")\n",
    "#     .config(\"spark.driver.memory\", \"4g\")\n",
    "#     .config(\"spark.sql.shuffle.partitions\", \"500\")\n",
    "#     .config(\"spark.serializer\", \"org.apache.spark.serializer.KryoSerializer\")\n",
    "#     .config(\"spark.kryoserializer.buffer\", \"32m\")\n",
    "#     .config(\"spark.memory.fraction\", \"0.8\")\n",
    "#     .config(\"spark.memory.storageFraction\", \"0.5\")\n",
    "#     .config(\"spark.default.parallelism\", \"24\")\n",
    "#     .config(\"spark.sql.autoBroadcastJoinThreshold\", \"104857600\")\n",
    "#     .config(\"spark.dynamicAllocation.enabled\", \"true\")\n",
    "#     .config(\"spark.shuffle.service.enabled\", \"true\")\n",
    "#     .getOrCreate())"
   ]
  },
  {
   "cell_type": "code",
   "execution_count": 7,
   "id": "639e3abf",
   "metadata": {},
   "outputs": [],
   "source": [
    "spark.conf.set('spark.sql.repl.eagerEval.enabled', True)"
   ]
  },
  {
   "cell_type": "code",
   "execution_count": 8,
   "id": "03bfe6c3",
   "metadata": {},
   "outputs": [],
   "source": [
    "files_path = \"/user/data\""
   ]
  },
  {
   "cell_type": "code",
   "execution_count": 9,
   "id": "fab85259",
   "metadata": {},
   "outputs": [],
   "source": [
    "struct = StructType([\n",
    "    StructField(\"transaction_id\", IntegerType(), nullable=True),\n",
    "    StructField(\"tx_datetime\", StringType(), nullable=True),\n",
    "    StructField(\"customer_id\", IntegerType(), nullable=True),\n",
    "    StructField(\"terminal_id\", IntegerType(), nullable=True),\n",
    "    StructField(\"tx_amount\", DoubleType(), nullable=True),\n",
    "    StructField(\"tx_time_seconds\", IntegerType(), nullable=True),\n",
    "    StructField(\"tx_time_days\", IntegerType(), nullable=True),\n",
    "    StructField(\"tx_fraud\", IntegerType(), nullable=True),\n",
    "    StructField(\"tx_fraud_scenario\", IntegerType(), nullable=True)\n",
    "])"
   ]
  },
  {
   "cell_type": "code",
   "execution_count": 10,
   "id": "9142ebeb",
   "metadata": {},
   "outputs": [],
   "source": [
    "df = spark.read\\\n",
    "    .option(\"header\", \"true\")\\\n",
    "    .option(\"inferSchema\", \"false\")\\\n",
    "    .option(\"delimiter\", \",\")\\\n",
    "    .schema(struct)\\\n",
    "    .csv(files_path)"
   ]
  },
  {
   "cell_type": "code",
   "execution_count": 11,
   "id": "7aae0ae2",
   "metadata": {},
   "outputs": [
    {
     "data": {
      "text/html": [
       "<table border='1'>\n",
       "<tr><th>transaction_id</th><th>tx_datetime</th><th>customer_id</th><th>terminal_id</th><th>tx_amount</th><th>tx_time_seconds</th><th>tx_time_days</th><th>tx_fraud</th><th>tx_fraud_scenario</th></tr>\n",
       "<tr><td>0</td><td>2019-08-22 06:51:03</td><td>0</td><td>711</td><td>70.91</td><td>24663</td><td>0</td><td>0</td><td>0</td></tr>\n",
       "<tr><td>1</td><td>2019-08-22 05:10:37</td><td>0</td><td>0</td><td>90.55</td><td>18637</td><td>0</td><td>0</td><td>0</td></tr>\n",
       "<tr><td>2</td><td>2019-08-22 19:05:33</td><td>0</td><td>753</td><td>35.38</td><td>68733</td><td>0</td><td>0</td><td>0</td></tr>\n",
       "<tr><td>3</td><td>2019-08-22 07:21:33</td><td>0</td><td>0</td><td>80.41</td><td>26493</td><td>0</td><td>0</td><td>0</td></tr>\n",
       "<tr><td>4</td><td>2019-08-22 09:06:17</td><td>1</td><td>981</td><td>102.83</td><td>32777</td><td>0</td><td>0</td><td>0</td></tr>\n",
       "<tr><td>5</td><td>2019-08-22 18:41:25</td><td>3</td><td>205</td><td>34.2</td><td>67285</td><td>0</td><td>0</td><td>0</td></tr>\n",
       "<tr><td>6</td><td>2019-08-22 03:12:21</td><td>3</td><td>0</td><td>47.2</td><td>11541</td><td>0</td><td>0</td><td>0</td></tr>\n",
       "<tr><td>7</td><td>2019-08-22 22:36:40</td><td>6</td><td>809</td><td>139.39</td><td>81400</td><td>0</td><td>0</td><td>0</td></tr>\n",
       "<tr><td>8</td><td>2019-08-22 17:23:29</td><td>7</td><td>184</td><td>87.24</td><td>62609</td><td>0</td><td>0</td><td>0</td></tr>\n",
       "<tr><td>9</td><td>2019-08-22 21:09:37</td><td>8</td><td>931</td><td>61.7</td><td>76177</td><td>0</td><td>0</td><td>0</td></tr>\n",
       "<tr><td>10</td><td>2019-08-22 11:32:42</td><td>10</td><td>663</td><td>40.71</td><td>41562</td><td>0</td><td>1</td><td>2</td></tr>\n",
       "<tr><td>11</td><td>2019-08-22 03:09:26</td><td>10</td><td>770</td><td>63.91</td><td>11366</td><td>0</td><td>0</td><td>0</td></tr>\n",
       "<tr><td>12</td><td>2019-08-22 15:47:54</td><td>10</td><td>0</td><td>58.89</td><td>56874</td><td>0</td><td>0</td><td>0</td></tr>\n",
       "<tr><td>13</td><td>2019-08-22 21:59:20</td><td>10</td><td>649</td><td>89.24</td><td>79160</td><td>0</td><td>0</td><td>0</td></tr>\n",
       "<tr><td>14</td><td>2019-08-22 20:55:13</td><td>11</td><td>380</td><td>9.89</td><td>75313</td><td>0</td><td>0</td><td>0</td></tr>\n",
       "<tr><td>15</td><td>2019-08-22 16:39:03</td><td>11</td><td>337</td><td>83.36</td><td>59943</td><td>0</td><td>0</td><td>0</td></tr>\n",
       "<tr><td>16</td><td>2019-08-22 23:15:07</td><td>11</td><td>973</td><td>35.12</td><td>83707</td><td>0</td><td>0</td><td>0</td></tr>\n",
       "<tr><td>17</td><td>2019-08-22 07:39:45</td><td>12</td><td>9</td><td>74.0</td><td>27585</td><td>0</td><td>0</td><td>0</td></tr>\n",
       "<tr><td>18</td><td>2019-08-22 05:35:39</td><td>12</td><td>745</td><td>108.63</td><td>20139</td><td>0</td><td>0</td><td>0</td></tr>\n",
       "<tr><td>19</td><td>2019-08-22 10:29:16</td><td>12</td><td>9</td><td>84.45</td><td>37756</td><td>0</td><td>0</td><td>0</td></tr>\n",
       "</table>\n",
       "only showing top 20 rows\n"
      ],
      "text/plain": [
       "+--------------+-------------------+-----------+-----------+---------+---------------+------------+--------+-----------------+\n",
       "|transaction_id|        tx_datetime|customer_id|terminal_id|tx_amount|tx_time_seconds|tx_time_days|tx_fraud|tx_fraud_scenario|\n",
       "+--------------+-------------------+-----------+-----------+---------+---------------+------------+--------+-----------------+\n",
       "|             0|2019-08-22 06:51:03|          0|        711|    70.91|          24663|           0|       0|                0|\n",
       "|             1|2019-08-22 05:10:37|          0|          0|    90.55|          18637|           0|       0|                0|\n",
       "|             2|2019-08-22 19:05:33|          0|        753|    35.38|          68733|           0|       0|                0|\n",
       "|             3|2019-08-22 07:21:33|          0|          0|    80.41|          26493|           0|       0|                0|\n",
       "|             4|2019-08-22 09:06:17|          1|        981|   102.83|          32777|           0|       0|                0|\n",
       "|             5|2019-08-22 18:41:25|          3|        205|     34.2|          67285|           0|       0|                0|\n",
       "|             6|2019-08-22 03:12:21|          3|          0|     47.2|          11541|           0|       0|                0|\n",
       "|             7|2019-08-22 22:36:40|          6|        809|   139.39|          81400|           0|       0|                0|\n",
       "|             8|2019-08-22 17:23:29|          7|        184|    87.24|          62609|           0|       0|                0|\n",
       "|             9|2019-08-22 21:09:37|          8|        931|     61.7|          76177|           0|       0|                0|\n",
       "|            10|2019-08-22 11:32:42|         10|        663|    40.71|          41562|           0|       1|                2|\n",
       "|            11|2019-08-22 03:09:26|         10|        770|    63.91|          11366|           0|       0|                0|\n",
       "|            12|2019-08-22 15:47:54|         10|          0|    58.89|          56874|           0|       0|                0|\n",
       "|            13|2019-08-22 21:59:20|         10|        649|    89.24|          79160|           0|       0|                0|\n",
       "|            14|2019-08-22 20:55:13|         11|        380|     9.89|          75313|           0|       0|                0|\n",
       "|            15|2019-08-22 16:39:03|         11|        337|    83.36|          59943|           0|       0|                0|\n",
       "|            16|2019-08-22 23:15:07|         11|        973|    35.12|          83707|           0|       0|                0|\n",
       "|            17|2019-08-22 07:39:45|         12|          9|     74.0|          27585|           0|       0|                0|\n",
       "|            18|2019-08-22 05:35:39|         12|        745|   108.63|          20139|           0|       0|                0|\n",
       "|            19|2019-08-22 10:29:16|         12|          9|    84.45|          37756|           0|       0|                0|\n",
       "+--------------+-------------------+-----------+-----------+---------+---------------+------------+--------+-----------------+\n",
       "only showing top 20 rows"
      ]
     },
     "execution_count": 11,
     "metadata": {},
     "output_type": "execute_result"
    }
   ],
   "source": [
    "df"
   ]
  },
  {
   "cell_type": "code",
   "execution_count": 12,
   "id": "3af4ba12",
   "metadata": {},
   "outputs": [
    {
     "name": "stdout",
     "output_type": "stream",
     "text": [
      "root\n",
      " |-- transaction_id: integer (nullable = true)\n",
      " |-- tx_datetime: string (nullable = true)\n",
      " |-- customer_id: integer (nullable = true)\n",
      " |-- terminal_id: integer (nullable = true)\n",
      " |-- tx_amount: double (nullable = true)\n",
      " |-- tx_time_seconds: integer (nullable = true)\n",
      " |-- tx_time_days: integer (nullable = true)\n",
      " |-- tx_fraud: integer (nullable = true)\n",
      " |-- tx_fraud_scenario: integer (nullable = true)\n",
      "\n"
     ]
    }
   ],
   "source": [
    "df.printSchema()"
   ]
  },
  {
   "cell_type": "markdown",
   "id": "7d0e4780",
   "metadata": {},
   "source": [
    "transaction_id: номер транзакции  \n",
    "tx_datetime: дата и время транзы (текст)  \n",
    "customer_id: айди пользователя  \n",
    "terminal_id: идентификатор терминала, каждый терминал имеет уникальный идентификатор  \n",
    "tx_amount: сумма транзакции  \n",
    "tx_time_seconds: кол-во секунд до транзакции с даты отсчёта  \n",
    "tx_time_days: кол-во дней до транзакции с даты отсчёта   \n",
    "tx_fraud: двоичная переменная 0 - законная транзакция, 1 - мошенническую транзакцию  \n",
    "tx_fraud_scenario: какой применялся мошенничекий сценарий 1, 2 или 3  \n",
    "(1 - свыше суммы, 2 - терминал, 3 - клиенты)\n"
   ]
  },
  {
   "cell_type": "markdown",
   "id": "6ff205d1",
   "metadata": {},
   "source": [
    "## Начинаю исследовать датасет мошеннических транзакций на наличие в нем ошибочных данных"
   ]
  },
  {
   "cell_type": "markdown",
   "id": "bf184926",
   "metadata": {},
   "source": [
    "#### Для начала проверю дубли и пропуски"
   ]
  },
  {
   "cell_type": "code",
   "execution_count": null,
   "id": "46d42c1c",
   "metadata": {},
   "outputs": [],
   "source": [
    "#Дубли нашёл, но тут запускать ячейку не буду чтобы не тратить время\n",
    "# duplicate_count = df.groupBy(df.columns).count().where(col(\"count\") > 1)\n",
    "\n",
    "# duplicate_count.show()"
   ]
  },
  {
   "cell_type": "code",
   "execution_count": 13,
   "id": "c3b11d00",
   "metadata": {},
   "outputs": [],
   "source": [
    "df = df.dropDuplicates() # удалить дубли"
   ]
  },
  {
   "cell_type": "markdown",
   "id": "298b28e5",
   "metadata": {},
   "source": [
    "#### Теперь пропуски"
   ]
  },
  {
   "cell_type": "code",
   "execution_count": 14,
   "id": "42de9f10",
   "metadata": {},
   "outputs": [
    {
     "name": "stdout",
     "output_type": "stream",
     "text": [
      "+--------------+-----------+-----------+-----------+---------+---------------+------------+--------+-----------------+\n",
      "|transaction_id|tx_datetime|customer_id|terminal_id|tx_amount|tx_time_seconds|tx_time_days|tx_fraud|tx_fraud_scenario|\n",
      "+--------------+-----------+-----------+-----------+---------+---------------+------------+--------+-----------------+\n",
      "|             0|          0|          0|      40312|        0|              0|           0|       0|                0|\n",
      "+--------------+-----------+-----------+-----------+---------+---------------+------------+--------+-----------------+\n",
      "\n"
     ]
    }
   ],
   "source": [
    "missing_values = df.select([col(c).alias(c) for c in df.columns]).\\\n",
    "    select([col(c).isNull().cast(\"int\").alias(c) for c in df.columns]).\\\n",
    "    agg(*[F.sum(c).alias(c) for c in df.columns])\n",
    "\n",
    "missing_values.show() #31 минута(..."
   ]
  },
  {
   "cell_type": "markdown",
   "id": "311c968f",
   "metadata": {},
   "source": [
    "пропуски только в одном столбце и их очень мало для ~2 млрд строк, так что удалю все строки с пропусками"
   ]
  },
  {
   "cell_type": "code",
   "execution_count": 15,
   "id": "60494d52",
   "metadata": {},
   "outputs": [],
   "source": [
    "df = df.dropna()"
   ]
  },
  {
   "cell_type": "markdown",
   "id": "14208468",
   "metadata": {},
   "source": [
    "#### Помсотрим выбросы\n",
    "на мой взгляд анализировать на наличие выбросов есть смысл только признак tx_amount, так как айди - это просто идентификаторы транз, людей, терминалов, количество дней и сек это используются для аггригации данных, а признаки с fraud категориальные по своей сути"
   ]
  },
  {
   "cell_type": "code",
   "execution_count": 16,
   "id": "8da52eb9",
   "metadata": {},
   "outputs": [
    {
     "name": "stdout",
     "output_type": "stream",
     "text": [
      "CPU times: user 529 ms, sys: 136 ms, total: 665 ms\n",
      "Wall time: 1h 40min 44s\n"
     ]
    }
   ],
   "source": [
    "%%time\n",
    "Q1 = df.approxQuantile(\"tx_amount\", [0.25], 0.05)[0]\n",
    "Q3 = df.approxQuantile(\"tx_amount\", [0.75], 0.05)[0]\n",
    "IQR = Q3 - Q1\n"
   ]
  },
  {
   "cell_type": "markdown",
   "id": "a4b8f53a",
   "metadata": {},
   "source": [
    "<b>1 чаааас 40 минут!!!</b>"
   ]
  },
  {
   "cell_type": "markdown",
   "id": "5eda4119",
   "metadata": {},
   "source": [
    "не хочется запускать следующую ячейку, но надо сдать хоть что-то.."
   ]
  },
  {
   "cell_type": "code",
   "execution_count": 17,
   "id": "ecb53879",
   "metadata": {},
   "outputs": [
    {
     "name": "stdout",
     "output_type": "stream",
     "text": [
      "+--------------+-------------------+-----------+-----------+---------+---------------+------------+--------+-----------------+\n",
      "|transaction_id|        tx_datetime|customer_id|terminal_id|tx_amount|tx_time_seconds|tx_time_days|tx_fraud|tx_fraud_scenario|\n",
      "+--------------+-------------------+-----------+-----------+---------+---------------+------------+--------+-----------------+\n",
      "|     140985246|2019-11-20 17:30:47|       5257|        691|   171.93|        7839047|          90|       1|                2|\n",
      "|     140992148|2019-11-20 15:00:04|       9680|        851|   147.98|        7830004|          90|       0|                0|\n",
      "|     140994345|2019-11-20 11:09:16|      11085|        443|   207.73|        7816156|          90|       0|                0|\n",
      "|     141002255|2019-11-20 09:06:32|      16136|        995|   165.87|        7808792|          90|       0|                0|\n",
      "|     141006438|2019-11-20 09:17:10|      18781|        796|   150.87|        7809430|          90|       0|                0|\n",
      "|     141009105|2019-11-20 04:30:12|      20436|        129|   155.57|        7792212|          90|       0|                0|\n",
      "|     141010387|2019-11-20 06:42:16|      21278|        734|   198.98|        7800136|          90|       0|                0|\n",
      "|     141011349|2019-11-20 13:43:06|      21947|        651|   158.76|        7825386|          90|       0|                0|\n",
      "|     141012135|2019-11-20 17:39:20|      22471|        935|   157.29|        7839560|          90|       0|                0|\n",
      "|     141030702|2019-11-20 12:37:30|      34270|        820|   169.94|        7821450|          90|       0|                0|\n",
      "|     141042569|2019-11-20 00:53:24|      41887|          0|   171.84|        7779204|          90|       0|                0|\n",
      "|     141045030|2019-11-20 13:41:20|      43464|        450|   182.63|        7825280|          90|       0|                0|\n",
      "|     141049574|2019-11-20 11:36:44|      46350|         75|   183.57|        7817804|          90|       0|                0|\n",
      "|     141053266|2019-11-20 02:50:00|      48743|        846|   153.97|        7786200|          90|       0|                0|\n",
      "|     141055156|2019-11-20 04:45:00|      49976|        600|   156.84|        7793100|          90|       0|                0|\n",
      "|     141055734|2019-11-20 14:40:58|      50351|        939|   155.88|        7828858|          90|       0|                0|\n",
      "|     141075111|2019-11-20 20:11:11|      62756|        113|   154.89|        7848671|          90|       0|                0|\n",
      "|     141099743|2019-11-20 17:13:31|      78515|        529|   166.07|        7838011|          90|       0|                0|\n",
      "|     141109466|2019-11-20 13:16:44|      84697|        983|   164.28|        7823804|          90|       1|                2|\n",
      "|     141117556|2019-11-20 14:07:45|      89912|         45|   163.26|        7826865|          90|       0|                0|\n",
      "+--------------+-------------------+-----------+-----------+---------+---------------+------------+--------+-----------------+\n",
      "only showing top 20 rows\n",
      "\n",
      "CPU times: user 148 ms, sys: 49.6 ms, total: 197 ms\n",
      "Wall time: 29min 36s\n"
     ]
    }
   ],
   "source": [
    "%%time\n",
    "outliers = df.filter((col(\"tx_amount\") < Q1 - 1.5 * IQR) | (col(\"tx_amount\") > Q3 + 1.5 * IQR))\n",
    "\n",
    "outliers.show()"
   ]
  },
  {
   "cell_type": "code",
   "execution_count": 23,
   "id": "b81efef1",
   "metadata": {},
   "outputs": [
    {
     "name": "stdout",
     "output_type": "stream",
     "text": [
      "CPU times: user 122 ms, sys: 44.6 ms, total: 166 ms\n",
      "Wall time: 24min 54s\n"
     ]
    },
    {
     "data": {
      "text/plain": [
       "50429057"
      ]
     },
     "execution_count": 23,
     "metadata": {},
     "output_type": "execute_result"
    }
   ],
   "source": [
    "%%time\n",
    "outliers.count()"
   ]
  },
  {
   "cell_type": "markdown",
   "id": "8f2cf15d",
   "metadata": {},
   "source": [
    "я думаю выбросы стоит заменить на минимум и максимум, но я чтобы успеть хоть что-то их просто удалю"
   ]
  },
  {
   "cell_type": "code",
   "execution_count": 25,
   "id": "0bdaa52e",
   "metadata": {},
   "outputs": [],
   "source": [
    "lb = Q1 - 1.5 * IQR\n",
    "ub = Q3 + 1.5 * IQR"
   ]
  },
  {
   "cell_type": "code",
   "execution_count": 26,
   "id": "cc4ed631",
   "metadata": {},
   "outputs": [
    {
     "name": "stdout",
     "output_type": "stream",
     "text": [
      "CPU times: user 0 ns, sys: 2.26 ms, total: 2.26 ms\n",
      "Wall time: 31.8 ms\n"
     ]
    }
   ],
   "source": [
    "%%time\n",
    "# Удаление выбросов из исходного DataFrame\n",
    "df_clean = df.filter((col(\"tx_amount\") >= lb) & (col(\"tx_amount\") <= ub))"
   ]
  },
  {
   "cell_type": "markdown",
   "id": "d76588ce",
   "metadata": {},
   "source": [
    "а теперь сохраню очищенные данные в отдельный файл в s3 и удалю кластер"
   ]
  },
  {
   "cell_type": "code",
   "execution_count": 29,
   "id": "4fbbd7de",
   "metadata": {},
   "outputs": [],
   "source": [
    "new_file_path = \"/user/data.parquet\""
   ]
  },
  {
   "cell_type": "code",
   "execution_count": null,
   "id": "3c22e178",
   "metadata": {},
   "outputs": [],
   "source": [
    "%%time\n",
    "df_clean.write.parquet(new_file_path, mode=\"overwrite\")"
   ]
  },
  {
   "cell_type": "code",
   "execution_count": null,
   "id": "70e68539",
   "metadata": {},
   "outputs": [],
   "source": []
  }
 ],
 "metadata": {
  "kernelspec": {
   "display_name": "Python 3 (ipykernel)",
   "language": "python",
   "name": "python3"
  },
  "language_info": {
   "codemirror_mode": {
    "name": "ipython",
    "version": 3
   },
   "file_extension": ".py",
   "mimetype": "text/x-python",
   "name": "python",
   "nbconvert_exporter": "python",
   "pygments_lexer": "ipython3",
   "version": "3.8.15"
  }
 },
 "nbformat": 4,
 "nbformat_minor": 5
}
